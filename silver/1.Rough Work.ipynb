{
 "cells": [
  {
   "cell_type": "markdown",
   "metadata": {},
   "source": [
    "<h3> Task 1 </h3>\n",
    "\n",
    " Consider the two quantum states $ \\ket{\\psi}=\\dsqrttwo \\ket{0} - \\dfrac{i}{\\sqrt{2}} \\ket{1} $ and $ \\ket{\\phi} = \\dsqrttwo \\ket{0} + \\dfrac{i}{\\sqrt{2}}\\ket{1}  $.  Compute $ \\bra{\\psi}$ and $\\bra{\\phi}$. "
   ]
  },
  {
   "cell_type": "code",
   "execution_count": 1,
   "metadata": {},
   "outputs": [
    {
     "name": "stdout",
     "output_type": "stream",
     "text": [
      "[[0.70710678+0.j         0.        -0.70710678j]]\n",
      "[[0.70710678-0.j        ]\n",
      " [0.        +0.70710678j]]\n",
      "[[0.70710678+0.j         0.        +0.70710678j]]\n",
      "[[0.70710678-0.j        ]\n",
      " [0.        -0.70710678j]]\n"
     ]
    }
   ],
   "source": [
    "import numpy as np\n",
    "\n",
    "\n",
    "ket_psi = 1/np.sqrt(2)*np.matrix([1,-1j])\n",
    "ket_phi = 1/np.sqrt(2)*np.matrix([1,1j])\n",
    "\n",
    "psi_conj=np.conj(ket_psi)\n",
    "phi_conj=np.conj(ket_phi)\n",
    "\n",
    "bra_psi = psi_conj.transpose()\n",
    "bra_phi = phi_conj.transpose()\n",
    "\n",
    "print(ket_psi)\n",
    "print(bra_psi)\n",
    "print(ket_phi)\n",
    "print(bra_phi)"
   ]
  },
  {
   "cell_type": "markdown",
   "metadata": {},
   "source": [
    "## Inner product"
   ]
  },
  {
   "cell_type": "markdown",
   "metadata": {},
   "source": [
    "<h3> Task 2 </h3>\n",
    "\n",
    "Compute $ \\braket{\\psi}{\\phi} $. What can you conclude about the two quantum states? "
   ]
  },
  {
   "cell_type": "code",
   "execution_count": 2,
   "metadata": {},
   "outputs": [
    {
     "name": "stdout",
     "output_type": "stream",
     "text": [
      "[[0.+0.j]]\n"
     ]
    }
   ],
   "source": [
    "print(np.dot(ket_phi,bra_psi))"
   ]
  },
  {
   "cell_type": "markdown",
   "metadata": {},
   "source": [
    "<h3> Task 3 </h3>\n",
    "\n",
    "Check that $ \\ket{\\psi} $ and $ \\ket{\\phi} $ are valid quantum states."
   ]
  },
  {
   "cell_type": "code",
   "execution_count": 3,
   "metadata": {},
   "outputs": [
    {
     "name": "stdout",
     "output_type": "stream",
     "text": [
      "[[1.+0.j]]\n",
      "[[1.+0.j]]\n"
     ]
    }
   ],
   "source": [
    "# We should check if the norm is 1 to check valid quantum state\n",
    "\n",
    "print(np.dot(ket_phi,bra_phi))"
   ]
  },
  {
   "cell_type": "markdown",
   "metadata": {},
   "source": [
    "## Unitary matrices"
   ]
  },
  {
   "cell_type": "markdown",
   "metadata": {},
   "source": [
    "<h3> Task 4 </h3>\n",
    "\n",
    "Given $A=  \\mymatrix{cc}{3 + 7i & 0 \\\\ 2i & 4-i}$, compute $A^{\\dagger}$:\n"
   ]
  },
  {
   "cell_type": "code",
   "execution_count": 4,
   "metadata": {},
   "outputs": [
    {
     "name": "stdout",
     "output_type": "stream",
     "text": [
      "[[3.+7.j 0.+0.j]\n",
      " [0.+2.j 4.-1.j]]\n",
      "\n",
      "[[3.-7.j 0.-2.j]\n",
      " [0.-0.j 4.+1.j]]\n"
     ]
    }
   ],
   "source": [
    "a = np.matrix([[3+7j,0],[2j,4-1j]])\n",
    "a_conj=np.conj(a)\n",
    "a_dagger = a_conj.transpose()\n",
    "print(a)\n",
    "print()\n",
    "print(a_dagger)"
   ]
  },
  {
   "cell_type": "markdown",
   "metadata": {},
   "source": [
    "If $A^{-1}$ = $A^\\dagger$, then A is called _unitary_. Alternatively, an $ n \\times n $ complex matrix is unitary if its column (also true for row) vectors form an orthonormal set, a set in which each vector in the set is a unit vector and each vector is orthogonal to each other.\n"
   ]
  },
  {
   "cell_type": "markdown",
   "metadata": {},
   "source": [
    "<h3> Task 5 </h3>\n",
    "\n",
    "Given $A=  \\frac{1}{2} \\mymatrix{cc}{1 + i & 1 - i \\\\ 1 - i & 1 + i}$, show that $A$ is unitary\n"
   ]
  },
  {
   "cell_type": "code",
   "execution_count": 5,
   "metadata": {},
   "outputs": [
    {
     "name": "stdout",
     "output_type": "stream",
     "text": [
      "[[ 1.  +0.000000e+00j  0.  +0.000000e+00j]\n",
      " [ 0.  +0.000000e+00j -0.25+3.061617e-17j]]\n",
      "\n",
      "[[ 1.  -0.000000e+00j  0.  -0.000000e+00j]\n",
      " [ 0.  -0.000000e+00j -0.25-3.061617e-17j]]\n",
      "\n",
      "To check for Unitary Matrix A.A_dagger should be equal to I(Identity matirx)\n",
      "[[1.    +0.j 0.    +0.j]\n",
      " [0.    +0.j 0.0625+0.j]]\n"
     ]
    }
   ],
   "source": [
    "import math\n",
    "#a = math.e**(-(np.pi)*1j)/3\n",
    "\n",
    "#a = 1/np.sqrt(2)*np.matrix([[1,0],[1,np.sqrt(2)*math.e**(-(np.pi)*1j)/4]])\n",
    "\n",
    "a = np.matrix([[1,0],[0,math.e**((np.pi)*1j)/4]])\n",
    "\n",
    "a_conj=np.conj(a)\n",
    "a_dagger = a_conj.transpose()\n",
    "\n",
    "print(a)\n",
    "print()\n",
    "\n",
    "print(a_dagger)\n",
    "print()\n",
    "\n",
    "print('To check for Unitary Matrix A.A_dagger should be equal to I(Identity matirx)')\n",
    "print(np.dot(a,a_dagger))"
   ]
  },
  {
   "cell_type": "code",
   "execution_count": 53,
   "metadata": {},
   "outputs": [
    {
     "name": "stdout",
     "output_type": "stream",
     "text": [
      "[0.70710678+0.70710678j 0.        +0.j         0.        -0.j\n",
      " 0.        +0.j        ]\n"
     ]
    }
   ],
   "source": [
    "from qiskit import QuantumRegister, ClassicalRegister, QuantumCircuit, execute, Aer, assemble\n",
    "\n",
    "mycircuit = QuantumCircuit(2,2)\n",
    "\n",
    "mycircuit.s(0)\n",
    "mycircuit.x(0)\n",
    "mycircuit.t(0)\n",
    "mycircuit.s(0)\n",
    "mycircuit.y(0)\n",
    "#mycircuit.h(0)\n",
    "\n",
    "#job = execute(mycircuit,Aer.get_backend('qasm_simulator'),shots=10000)\n",
    "#counts3 = job.result().get_counts(mycircuit)\n",
    "#print(counts3) # print the outcomes\n",
    "\n",
    "mycircuit.draw(output='mpl')\n",
    "\n",
    "svsim = Aer.get_backend('statevector_simulator') # Tell Qiskit how to simulate our circuit\n",
    "qobj = assemble(mycircuit)\n",
    "state = svsim.run(qobj).result().get_statevector() # Execute the circuit\n",
    "print(state)  "
   ]
  },
  {
   "cell_type": "code",
   "execution_count": null,
   "metadata": {},
   "outputs": [],
   "source": []
  }
 ],
 "metadata": {
  "kernelspec": {
   "display_name": "Python 3",
   "language": "python",
   "name": "python3"
  },
  "language_info": {
   "codemirror_mode": {
    "name": "ipython",
    "version": 3
   },
   "file_extension": ".py",
   "mimetype": "text/x-python",
   "name": "python",
   "nbconvert_exporter": "python",
   "pygments_lexer": "ipython3",
   "version": "3.8.8"
  }
 },
 "nbformat": 4,
 "nbformat_minor": 2
}
