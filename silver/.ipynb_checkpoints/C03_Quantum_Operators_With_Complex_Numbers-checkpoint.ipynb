{
 "cells": [
  {
   "cell_type": "markdown",
   "metadata": {},
   "source": [
    "<table align=\"left\"  width=\"100%\"> <tr>\n",
    "        <td  style=\"background-color:#ffffff;\">\n",
    "            <a href=\"http://qworld.lu.lv\" target=\"_blank\"><img src=\"..\\images\\qworld.jpg\" width=\"35%\" align=\"left\"> </a></td>\n",
    "        <td style=\"background-color:#ffffff;vertical-align:bottom;text-align:right;\">\n",
    "            prepared by Maksim Dimitrijev (<a href=\"http://qworld.lu.lv/index.php/qlatvia/\" target=\"_blank\">QLatvia</a>)\n",
    "        </td>        \n",
    "</tr></table>"
   ]
  },
  {
   "cell_type": "markdown",
   "metadata": {},
   "source": [
    "<table width=\"100%\"><tr><td style=\"color:#bbbbbb;background-color:#ffffff;font-size:11px;font-style:italic;text-align:right;\">This cell contains some macros. If there is a problem with displaying mathematical formulas, please run this cell to load these macros. </td></tr></table>\n",
    "$ \\newcommand{\\bra}[1]{\\langle #1|} $\n",
    "$ \\newcommand{\\ket}[1]{|#1\\rangle} $\n",
    "$ \\newcommand{\\braket}[2]{\\langle #1|#2\\rangle} $\n",
    "$ \\newcommand{\\dot}[2]{ #1 \\cdot #2} $\n",
    "$ \\newcommand{\\biginner}[2]{\\left\\langle #1,#2\\right\\rangle} $\n",
    "$ \\newcommand{\\mymatrix}[2]{\\left( \\begin{array}{#1} #2\\end{array} \\right)} $\n",
    "$ \\newcommand{\\myvector}[1]{\\mymatrix{c}{#1}} $\n",
    "$ \\newcommand{\\myrvector}[1]{\\mymatrix{r}{#1}} $\n",
    "$ \\newcommand{\\mypar}[1]{\\left( #1 \\right)} $\n",
    "$ \\newcommand{\\mybigpar}[1]{ \\Big( #1 \\Big)} $\n",
    "$ \\newcommand{\\sqrttwo}{\\frac{1}{\\sqrt{2}}} $\n",
    "$ \\newcommand{\\dsqrttwo}{\\dfrac{1}{\\sqrt{2}}} $\n",
    "$ \\newcommand{\\onehalf}{\\frac{1}{2}} $\n",
    "$ \\newcommand{\\donehalf}{\\dfrac{1}{2}} $\n",
    "$ \\newcommand{\\hadamard}{ \\mymatrix{rr}{ \\sqrttwo & \\sqrttwo \\\\ \\sqrttwo & -\\sqrttwo }} $\n",
    "$ \\newcommand{\\vzero}{\\myvector{1\\\\0}} $\n",
    "$ \\newcommand{\\vone}{\\myvector{0\\\\1}} $\n",
    "$ \\newcommand{\\stateplus}{\\myvector{ \\sqrttwo \\\\  \\sqrttwo } } $\n",
    "$ \\newcommand{\\stateminus}{ \\myrvector{ \\sqrttwo \\\\ -\\sqrttwo } } $\n",
    "$ \\newcommand{\\myarray}[2]{ \\begin{array}{#1}#2\\end{array}} $\n",
    "$ \\newcommand{\\X}{ \\mymatrix{cc}{0 & 1 \\\\ 1 & 0}  } $\n",
    "$ \\newcommand{\\Z}{ \\mymatrix{rr}{1 & 0 \\\\ 0 & -1}  } $\n",
    "$ \\newcommand{\\Htwo}{ \\mymatrix{rrrr}{ \\frac{1}{2} & \\frac{1}{2} & \\frac{1}{2} & \\frac{1}{2} \\\\ \\frac{1}{2} & -\\frac{1}{2} & \\frac{1}{2} & -\\frac{1}{2} \\\\ \\frac{1}{2} & \\frac{1}{2} & -\\frac{1}{2} & -\\frac{1}{2} \\\\ \\frac{1}{2} & -\\frac{1}{2} & -\\frac{1}{2} & \\frac{1}{2} } } $\n",
    "$ \\newcommand{\\CNOT}{ \\mymatrix{cccc}{1 & 0 & 0 & 0 \\\\ 0 & 1 & 0 & 0 \\\\ 0 & 0 & 0 & 1 \\\\ 0 & 0 & 1 & 0} } $\n",
    "$ \\newcommand{\\norm}[1]{ \\left\\lVert #1 \\right\\rVert } $\n",
    "$ \\newcommand{\\pstate}[1]{ \\lceil \\mspace{-1mu} #1 \\mspace{-1.5mu} \\rfloor } $\n",
    "$ \\newcommand{\\Y}{ \\mymatrix{rr}{0 & -i \\\\ i & 0} } $ $ \\newcommand{\\S}{ \\mymatrix{rr}{1 & 0 \\\\ 0 & i} } $ \n",
    "$ \\newcommand{\\T}{ \\mymatrix{rr}{1 & 0 \\\\ 0 & e^{i \\frac{pi}{4}}} } $ \n",
    "$ \\newcommand{\\Sdg}{ \\mymatrix{rr}{1 & 0 \\\\ 0 & -i} } $ \n",
    "$ \\newcommand{\\Tdg}{ \\mymatrix{rr}{1 & 0 \\\\ 0 & e^{-i \\frac{pi}{4}}} } $\n"
   ]
  },
  {
   "cell_type": "markdown",
   "metadata": {},
   "source": [
    "<h1> Quantum operators with complex numbers </h1>\n",
    "\n",
    "We remind you the main property of a quantum operator.\n",
    "\n",
    "<font color=\"blue\"><b>Quantum operator should be a length preserving square matrix.</b></font>\n",
    "\n",
    "If the matrix $U$ is length preserving (also called unitary), the following equality should hold:\n",
    "\n",
    "$U^{\\dagger}U=I$, where:\n",
    "\n",
    "<ul>\n",
    "    <li>$I$ is identity matrix;</li>\n",
    "    <li>$U^{\\dagger}$ is conjugate transpose of the matrix $U$.</li>\n",
    "</ul>"
   ]
  },
  {
   "cell_type": "markdown",
   "metadata": {},
   "source": [
    "<h2> Conjugate transpose of the matrix </h2"
   ]
  },
  {
   "cell_type": "markdown",
   "metadata": {},
   "source": [
    "To obtain $U^{\\dagger}$ from $U$, you need to take $U$ and do the following:\n",
    "<ul>\n",
    "    <li>Exchange the rows and columns, such that for each $i$ and $j$ the entry of $i$th row and $j$th column will appear in $i$th column and $j$th row;</li>\n",
    "    <li>Replace each obtained entry with its conjugate value.</li>\n",
    "</ul>\n",
    "\n",
    "If you are given matrix $U = \\mymatrix{cc}{ a_{11} & a_{12} \\\\ a_{21} & a_{22} }$, then $U^{\\dagger} = \\mymatrix{cc}{ \\overline{a_{11}} & \\overline{a_{21}} \\\\ \\overline{a_{12}} & \\overline{a_{22}} }$, where $\\overline{a+bi} = a-bi$."
   ]
  },
  {
   "cell_type": "markdown",
   "metadata": {},
   "source": [
    "<h3>Example</h3>\n",
    "\n",
    "Let's check Hadamard operator:\n",
    "\n",
    "$$\n",
    "    H = \\hadamard.\n",
    "$$\n",
    "\n",
    "It is easy to see that $H^{\\dagger} = H$. Also you may remember that $HH = I$, which means that the property of length preserving operator is fulfilled for Hadamard operator.\n",
    "\n",
    "Suppose that we have the following quantum state: $\\myvector{ \\frac{1+i}{\\sqrt{3}} \\\\ -\\frac{1}{\\sqrt{3}} }$. The square of the length of this vector is equal to $\\mathopen|\\frac{1+i}{\\sqrt{3}}\\mathclose|^2 + (-\\frac{1}{\\sqrt{3}})^2 = (\\sqrt{\\frac{1}{3} + \\frac{1}{3}})^2 + \\frac{1}{3} = \\frac{2}{3} + \\frac{1}{3} = 1$, so this is a valid quantum state. Let's apply Hadamard to this state and check whether the length is still equal to 1.\n",
    "\n",
    "$$\n",
    "H \\myvector{ \\frac{1+i}{\\sqrt{3}} \\\\ -\\frac{1}{\\sqrt{3}} } =  \\hadamard \\myvector{ \\frac{1+i}{\\sqrt{3}} \\\\ -\\frac{1}{\\sqrt{3}} } = \\myvector{ \\left (\\frac{1+i}{\\sqrt{3}} \\cdot \\frac{1}{\\sqrt{2}} \\right ) + \n",
    "\\left(-\\frac{1}{\\sqrt{3}} \\cdot \\frac{1}{\\sqrt{2}} \\right ) \\\\ \\left ( \\frac{1+i}{\\sqrt{3}} \\cdot \\frac{1}{\\sqrt{2}} \\right ) +\n",
    "\\left ( -\\frac{1}{\\sqrt{3}} \\cdot -\\frac{1}{\\sqrt{2}} \\right ) } = \\myvector{ \\frac{1+i-1}{\\sqrt{6}} \\\\ \\frac{1+i+1}{\\sqrt{6}} } = \\myvector{ \\frac{i}{\\sqrt{6}} \\\\ \\frac{2+i}{\\sqrt{6}} }.\n",
    "$$\n",
    "\n",
    "The length of the vector is $\\mathopen|\\frac{i}{\\sqrt{6}}\\mathclose|^2 + \\mathopen|\\frac{2+i}{\\sqrt{6}}\\mathclose|^2 = (\\sqrt{\\frac{1}{6}})^2 + (\\sqrt{\\frac{4}{6} + \\frac{1}{6}})^2 = \\frac{1}{6} + \\frac{5}{6} = 1$."
   ]
  },
  {
   "cell_type": "markdown",
   "metadata": {},
   "source": [
    "Now we will check the most basic quantum operator with complex values. We know the X and Z operators, and curious people might ask, where is the remaining coordinate - $Y$ operator. Now we are ready to check the $Y$ operator:\n",
    "\n",
    "$$\n",
    "    Y = \\Y.\n",
    "$$"
   ]
  },
  {
   "cell_type": "markdown",
   "metadata": {},
   "source": [
    "<h3> Task 1 </h3>\n",
    "\n",
    "Verify that $Y^{\\dagger} = Y$ and that $YY = I$.\n",
    "\n"
   ]
  },
  {
   "cell_type": "markdown",
   "metadata": {},
   "source": [
    "<a href=\"C03_Quantum_Operators_With_Complex_Numbers_Solutions.ipynb#task1\">click for our solution</a>"
   ]
  },
  {
   "cell_type": "markdown",
   "metadata": {},
   "source": [
    "$Y$ operator is similar to $X$ operator, but now we do not only exchange the values of the two basis states, but also multiply them by some imaginary number. Let's check this operator on the previously checked quantum state: $\\myvector{ \\frac{1+i}{\\sqrt{3}} \\\\ -\\frac{1}{\\sqrt{3}} }$.\n",
    "\n",
    "$$\n",
    "Y \\myvector{ \\frac{1+i}{\\sqrt{3}} \\\\ -\\frac{1}{\\sqrt{3}} } = \\Y \\myvector{ \\frac{1+i}{\\sqrt{3}} \\\\ -\\frac{1}{\\sqrt{3}} } = \\myvector{ -\\frac{-i}{\\sqrt{3}} \\\\ \\frac{i+i^2}{\\sqrt{3}} } = \\myvector{ \\frac{i}{\\sqrt{3}} \\\\ \\frac{-1+i}{\\sqrt{3}} }.\n",
    "$$"
   ]
  },
  {
   "cell_type": "markdown",
   "metadata": {},
   "source": [
    "Now we will check one more quantum operator with complex numbers, which is not one of the of basic gates provided in Qiskit:\n",
    "\n",
    "$$\n",
    "\\mymatrix{cc}{ \\frac{1+i}{2} & \\frac{1-i}{2} \\\\ \\frac{1-i}{2} & \\frac{1+i}{2} }.\n",
    "$$"
   ]
  },
  {
   "cell_type": "markdown",
   "metadata": {},
   "source": [
    "<h3> Task 2</h3>\n",
    "\n",
    "Randomly create a 2-dimensional quantum state, where both amplitudes are complex numbers (you can use your solution from previous notebook, Task 3). After that apply the mentioned operator to the generated state and verify that the resulting state is a valid quantum state.\n",
    "\n",
    "<b>Repeat several times:</b>\n",
    "<ul>\n",
    "    <li> Randomly pick a quantum state. </li>\n",
    "    <li> Apply the mentioned operator to the state. </li>\n",
    "    <li> Check whether the resulting quantum state is valid. </li>"
   ]
  },
  {
   "cell_type": "code",
   "execution_count": 3,
   "metadata": {},
   "outputs": [],
   "source": [
    "# %load random_complex_quantum_state.py\n",
    "from random import randrange\n",
    "def random_complex_quantum_state():\n",
    "    # quantum state    \n",
    "    quantum_state=[0,0]\n",
    "    length_square = 0\n",
    "    while length_square == 0:\n",
    "        first_entry_real = randrange(-100,101)\n",
    "        first_entry_imag = randrange(-100,101)\n",
    "        second_entry_real = randrange(-100,101)\n",
    "        second_entry_imag = randrange(-100,101)\n",
    "        length_square = first_entry_real**2+first_entry_imag**2+second_entry_real**2+second_entry_imag**2\n",
    "    first_entry_real = first_entry_real / length_square**0.5\n",
    "    first_entry_imag = first_entry_imag / length_square**0.5\n",
    "    second_entry_real = second_entry_real / length_square**0.5\n",
    "    second_entry_imag = second_entry_imag / length_square**0.5\n",
    "    quantum_state[0] = complex(first_entry_real, first_entry_imag)\n",
    "    quantum_state[1] = complex(second_entry_real, second_entry_imag)\n",
    "    return quantum_state\n"
   ]
  },
  {
   "cell_type": "code",
   "execution_count": 4,
   "metadata": {},
   "outputs": [],
   "source": [
    "# %load is_quantum_state.py\n",
    "# testing whether a given quantum state is valid\n",
    "def is_quantum_state(quantum_state):\n",
    "    length_square = 0\n",
    "    for i in range(len(quantum_state)):\n",
    "        length_square += abs(quantum_state[i])**2\n",
    "    print(\"summation of entry squares is\",length_square)\n",
    "    # there might be precision problem\n",
    "    # the length may be very close to 1 but not exactly 1\n",
    "    # so we use the following trick\n",
    "    if (length_square - 1)**2 < 0.00000001: return True \n",
    "    return False\n"
   ]
  },
  {
   "cell_type": "code",
   "execution_count": 6,
   "metadata": {},
   "outputs": [
    {
     "name": "stdout",
     "output_type": "stream",
     "text": [
      "[(0.9465088063488836-0.1866816676881881j), (-0.07532769047067239+0.25218400722790313j)]\n",
      "summation of entry squares is 1.0000000000000002\n",
      "Is it valid? True\n",
      "[(0.016335377652262173-0.9474519038312088j), (-0.1715214653487533-0.26953373126232666j)]\n",
      "summation of entry squares is 1.0\n",
      "Is it valid? True\n",
      "[(0.34074368732166327-0.9131930820220576j), (-0.17718671740726488+0.1362974749286653j)]\n",
      "summation of entry squares is 1.0\n",
      "Is it valid? True\n",
      "[(0.24931988302444855+0.6254867240788797j), (0.013122099106549878-0.7392115830023125j)]\n",
      "summation of entry squares is 1.0000000000000004\n",
      "Is it valid? True\n",
      "[(-0.2551312567445413-0.9533852225717068j), (-0.16113553057549973+0j)]\n",
      "summation of entry squares is 0.9999999999999996\n",
      "Is it valid? True\n",
      "[(0.08491227315167399-0.948187050193693j), (0.254736819455022-0.16982454630334803j)]\n",
      "summation of entry squares is 0.9999999999999999\n",
      "Is it valid? True\n",
      "[(-0.18894380399895322+0.2459834429420334j), (-0.5525715022610895+0.7736001031655253j)]\n",
      "summation of entry squares is 1.0000000000000002\n",
      "Is it valid? True\n",
      "[(-0.9707363753355257+0.2077716452472529j), (-0.08515231362592329-0.08515231362592324j)]\n",
      "summation of entry squares is 1.0\n",
      "Is it valid? True\n",
      "[(0.6407033458927829+0.2086862326622207j), (0.5967694021744208+0.4356782752070924j)]\n",
      "summation of entry squares is 1.0\n",
      "Is it valid? True\n",
      "[(-0.6458183109050306-0.2694473747484565j), (-0.2865551445737553-0.65437219581768j)]\n",
      "summation of entry squares is 0.9999999999999998\n",
      "Is it valid? True\n"
     ]
    }
   ],
   "source": [
    "for i in range(10):\n",
    "    initial_state = random_complex_quantum_state()\n",
    "    new_state = [0,0]\n",
    "    new_state[0] = initial_state[0] * complex(1/2,1/2) + initial_state[1] * complex(1/2,-1/2)\n",
    "    new_state[1] = initial_state[0] * complex(1/2,-1/2) + initial_state[1] * complex(1/2,1/2)\n",
    "    print(new_state)\n",
    "    print(\"Is it valid?\",is_quantum_state(new_state))"
   ]
  },
  {
   "cell_type": "markdown",
   "metadata": {},
   "source": [
    "<a href=\"C03_Quantum_Operators_With_Complex_Numbers_Solutions.ipynb#task2\">click for our solution</a>"
   ]
  },
  {
   "cell_type": "markdown",
   "metadata": {},
   "source": [
    "<h3> Task 3</h3>\n",
    "\n",
    "Repeat Task 2, but with Hadamard operator. Note that you should load the necessary functions if you did not complete Task 2."
   ]
  },
  {
   "cell_type": "code",
   "execution_count": 7,
   "metadata": {},
   "outputs": [
    {
     "name": "stdout",
     "output_type": "stream",
     "text": [
      "[(-0.36250592449044394-0.8525602298201183j), (0.32222748843595017-0.19467910759671986j)]\n",
      "summation of entry squares is 0.9999999999999999\n",
      "Is it valid? True\n",
      "[(0.10809072169604245+0.17066956057269866j), (0.7338791104626041-0.6485443301762549j)]\n",
      "summation of entry squares is 0.9999999999999994\n",
      "Is it valid? True\n",
      "[(-0.6252018668700292-0.6706710935514858j), (-0.3751211201220175+0.13640768004436998j)]\n",
      "summation of entry squares is 0.9999999999999999\n",
      "Is it valid? True\n",
      "[(-0.35266801957083094+0.2689840827235151j), (-0.8428167925336807-0.30484862708665045j)]\n",
      "summation of entry squares is 1.0\n",
      "Is it valid? True\n",
      "[(0.567730773656021-0.81728276207625j), (-0.05614919739455149-0.08110439623657445j)]\n",
      "summation of entry squares is 0.9999999999999999\n",
      "Is it valid? True\n",
      "[(0.28470012959913427+0.22899793032973847j), (0.9283699878232641+0.06808046577370602j)]\n",
      "summation of entry squares is 0.9999999999999998\n",
      "Is it valid? True\n",
      "[(0.8449321398321825-0.13459096032725032j), (-0.09720458245856967+0.5084547390140568j)]\n",
      "summation of entry squares is 0.9999999999999996\n",
      "Is it valid? True\n",
      "[(-0.6221013823725694+0.7333715483253869j), (-0.16690524892922592+0.21748259708959744j)]\n",
      "summation of entry squares is 1.0\n",
      "Is it valid? True\n",
      "[(0.6975903542950534+0.6858661466598424j), (0.14655259544013727-0.14655259544013727j)]\n",
      "summation of entry squares is 0.9999999999999997\n",
      "Is it valid? True\n",
      "[(0.08409877946618788+0.798938404928785j), (0.5571544139634947-0.21024694866546978j)]\n",
      "summation of entry squares is 0.9999999999999996\n",
      "Is it valid? True\n"
     ]
    }
   ],
   "source": [
    "for i in range(10):\n",
    "    initial_state = random_complex_quantum_state()\n",
    "    new_state = [0,0]\n",
    "    new_state[0] = initial_state[0] * (1/(2**0.5)) + initial_state[1] * (1/(2**0.5))\n",
    "    new_state[1] = initial_state[0] * (1/(2**0.5)) + initial_state[1] * (-1/(2**0.5))\n",
    "    print(new_state)\n",
    "    print(\"Is it valid?\",is_quantum_state(new_state))"
   ]
  },
  {
   "cell_type": "markdown",
   "metadata": {},
   "source": [
    "<a href=\"C03_Quantum_Operators_With_Complex_Numbers_Solutions.ipynb#task3\">click for our solution</a>"
   ]
  },
  {
   "cell_type": "markdown",
   "metadata": {},
   "source": [
    "<h3> Task 4</h3>\n",
    "\n",
    "Repeat Task 2 with the following quantum operators. Note that you should load the necessary functions if you did not complete Task 2.\n",
    "\n",
    "$$\n",
    "\\S \\mbox{ and } \\T.\n",
    "$$"
   ]
  },
  {
   "cell_type": "code",
   "execution_count": 8,
   "metadata": {},
   "outputs": [
    {
     "name": "stdout",
     "output_type": "stream",
     "text": [
      "First operator:\n",
      "[(0.40238605210212725+0.5136843218325029j), (-0.6421054022906286-0.40238605210212725j)]\n",
      "summation of entry squares is 1.0000000000000002\n",
      "Is it valid? True\n",
      "[(-0.14062208184742753-0.07031104092371376j), (-0.337492996433826+0.9281057401930216j)]\n",
      "summation of entry squares is 0.9999999999999996\n",
      "Is it valid? True\n",
      "[(0.11817205230003629+0.4090571041155102j), (0.8362945239694876+0.3454259990308753j)]\n",
      "summation of entry squares is 1.0\n",
      "Is it valid? True\n",
      "[(-0.4089477740347334+0.702878986622198j), (0.08945732557009793-0.5750828072363439j)]\n",
      "summation of entry squares is 0.9999999999999998\n",
      "Is it valid? True\n",
      "[(0.15220241770133666+0.6925210005410818j), (-0.3424554398280075+0.6164197916904135j)]\n",
      "summation of entry squares is 1.0\n",
      "Is it valid? True\n",
      "[(-0.4323491587282246-0.5263381062778386j), (-0.5451358957877614-0.48874252725799305j)]\n",
      "summation of entry squares is 1.0\n",
      "Is it valid? True\n",
      "[(0.3862838831428885-0.7639836799937127j), (-0.4377884008952736-0.274690761346054j)]\n",
      "summation of entry squares is 1.0\n",
      "Is it valid? True\n",
      "[(-0.014702703046374362+0.646918934040472j), (0.5881081218549744+0.4851892005303539j)]\n",
      "summation of entry squares is 0.9999999999999998\n",
      "Is it valid? True\n",
      "[(-0.47622843277689497-0.8277303712550793j), (-0.29480807743331594-0.03401631662692107j)]\n",
      "summation of entry squares is 1.0\n",
      "Is it valid? True\n",
      "[(0.008940696346430336+0.3844499428965044j), (-0.6437301369429842-0.6616115296358448j)]\n",
      "summation of entry squares is 1.0\n",
      "Is it valid? True\n"
     ]
    }
   ],
   "source": [
    "print('First operator:')\n",
    "for i in range(10):\n",
    "    initial_state = random_complex_quantum_state()\n",
    "    new_state = [0,0]\n",
    "    new_state[0] = initial_state[0] * 1 + initial_state[1] * 0\n",
    "    new_state[1] = initial_state[0] * 0 + initial_state[1] * complex(0,1)\n",
    "    print(new_state)\n",
    "    print(\"Is it valid?\",is_quantum_state(new_state))"
   ]
  },
  {
   "cell_type": "code",
   "execution_count": 9,
   "metadata": {},
   "outputs": [
    {
     "name": "stdout",
     "output_type": "stream",
     "text": [
      "Second operator:\n",
      "[(-0.4571204681171978+0.2514162574644588j), (0.08888907027683085+0.8484865799152037j)]\n",
      "summation of entry squares is 1.0\n",
      "Is it valid? True\n",
      "[(-0.3433093270973934+0.6690130476769719j), (-0.12449043755649103-0.6473502752937532j)]\n",
      "summation of entry squares is 1.0\n",
      "Is it valid? True\n",
      "[(0.8102684458914187-0.38262676611539215j), (0.4297097345034804+0.11140622746386528j)]\n",
      "summation of entry squares is 1.0\n",
      "Is it valid? True\n",
      "[(-0.2511505385337502+0.5441595001564588j), (-0.7991561200314063-0.046511731853679794j)]\n",
      "summation of entry squares is 0.9999999999999999\n",
      "Is it valid? True\n",
      "[(-0.39688062258091966-0.07441511673392244j), (-0.798061410591067-0.44726518615543315j)]\n",
      "summation of entry squares is 0.9999999999999997\n",
      "Is it valid? True\n",
      "[(0.14465933468568032-0.7385239718163679j), (0.5437499604387404+0.37147274525022855j)]\n",
      "summation of entry squares is 0.9999999999999998\n",
      "Is it valid? True\n",
      "[(0.4391963126157008+0.6819100643243776j), (-0.07355337416589997-0.5802543961976554j)]\n",
      "summation of entry squares is 0.9999999999999996\n",
      "Is it valid? True\n",
      "[(0.42908553118185766-0.010216322170996611j), (-0.11558449097437079-0.8957798050513734j)]\n",
      "summation of entry squares is 0.9999999999999997\n",
      "Is it valid? True\n",
      "[(-0.18494656360238212+0.7397862544095285j), (0.2769394643584804+0.5846499803123475j)]\n",
      "summation of entry squares is 0.9999999999999998\n",
      "Is it valid? True\n",
      "[(-0.40037088556878325+0.5560706744010878j), (-0.4482495329443039-0.5740739632444594j)]\n",
      "summation of entry squares is 1.0\n",
      "Is it valid? True\n"
     ]
    }
   ],
   "source": [
    "print('Second operator:')\n",
    "for i in range(10):\n",
    "    initial_state = random_complex_quantum_state()\n",
    "    new_state = [0,0]\n",
    "    new_state[0] = initial_state[0] * 1 + initial_state[1] * 0\n",
    "    new_state[1] = initial_state[0] * 0 + initial_state[1] * complex(1/(2**0.5),1/(2**0.5))\n",
    "    print(new_state)\n",
    "    print(\"Is it valid?\",is_quantum_state(new_state))"
   ]
  },
  {
   "cell_type": "markdown",
   "metadata": {},
   "source": [
    "<a href=\"C03_Quantum_Operators_With_Complex_Numbers_Solutions.ipynb#task4\">click for our solution</a>"
   ]
  }
 ],
 "metadata": {
  "kernelspec": {
   "display_name": "Python 3",
   "language": "python",
   "name": "python3"
  },
  "language_info": {
   "codemirror_mode": {
    "name": "ipython",
    "version": 3
   },
   "file_extension": ".py",
   "mimetype": "text/x-python",
   "name": "python",
   "nbconvert_exporter": "python",
   "pygments_lexer": "ipython3",
   "version": "3.8.8"
  }
 },
 "nbformat": 4,
 "nbformat_minor": 2
}
