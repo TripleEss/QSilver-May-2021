{
 "cells": [
  {
   "cell_type": "markdown",
   "metadata": {},
   "source": [
    "<table  align=\"left\" width=\"100%\"> <tr>\n",
    "        <td  style=\"background-color:#ffffff;\"><a href=\"https://qsoftware.lu.lv/index.php/qworld/\" target=\"_blank\"><img src=\"..\\images\\qworld.jpg\" width=\"35%\" align=\"left\"></a></td>\n",
    "        <td  align=\"right\" style=\"background-color:#ffffff;vertical-align:bottom;horizontal-align:right\">\n",
    "            prepared by Özlem Salehi (<a href=\"http://qworld.lu.lv/index.php/qturkey/\" target=\"_blank\">QTurkey</a>)\n",
    "        </td>        \n",
    "</tr></table>"
   ]
  },
  {
   "cell_type": "markdown",
   "metadata": {},
   "source": [
    "<table width=\"100%\"><tr><td style=\"color:#bbbbbb;background-color:#ffffff;font-size:11px;font-style:italic;text-align:right;\">This cell contains some macros. If there is a problem with displaying mathematical formulas, please run this cell to load these macros. </td></tr></table>\n",
    "$\\newcommand{\\Mod}[1]{\\ (\\mathrm{mod}\\ #1)}$\n",
    "$ \\newcommand{\\bra}[1]{\\langle #1|} $\n",
    "$ \\newcommand{\\ket}[1]{|#1\\rangle} $\n",
    "$ \\newcommand{\\braket}[2]{\\langle #1|#2\\rangle} $\n",
    "$ \\newcommand{\\dot}[2]{ #1 \\cdot #2} $\n",
    "$ \\newcommand{\\biginner}[2]{\\left\\langle #1,#2\\right\\rangle} $\n",
    "$ \\newcommand{\\mymatrix}[2]{\\left( \\begin{array}{#1} #2\\end{array} \\right)} $\n",
    "$ \\newcommand{\\myvector}[1]{\\mymatrix{c}{#1}} $\n",
    "$ \\newcommand{\\myrvector}[1]{\\mymatrix{r}{#1}} $\n",
    "$ \\newcommand{\\mypar}[1]{\\left( #1 \\right)} $\n",
    "$ \\newcommand{\\mybigpar}[1]{ \\Big( #1 \\Big)} $\n",
    "$ \\newcommand{\\sqrttwo}{\\frac{1}{\\sqrt{2}}} $\n",
    "$ \\newcommand{\\dsqrttwo}{\\dfrac{1}{\\sqrt{2}}} $\n",
    "$ \\newcommand{\\onehalf}{\\frac{1}{2}} $\n",
    "$ \\newcommand{\\donehalf}{\\dfrac{1}{2}} $\n",
    "$ \\newcommand{\\hadamard}{ \\mymatrix{rr}{ \\sqrttwo & \\sqrttwo \\\\ \\sqrttwo & -\\sqrttwo }} $\n",
    "$ \\newcommand{\\vzero}{\\myvector{1\\\\0}} $\n",
    "$ \\newcommand{\\vone}{\\myvector{0\\\\1}} $\n",
    "$ \\newcommand{\\stateplus}{\\myvector{ \\sqrttwo \\\\  \\sqrttwo } } $\n",
    "$ \\newcommand{\\stateminus}{ \\myrvector{ \\sqrttwo \\\\ -\\sqrttwo } } $\n",
    "$ \\newcommand{\\myarray}[2]{ \\begin{array}{#1}#2\\end{array}} $\n",
    "$ \\newcommand{\\X}{ \\mymatrix{cc}{0 & 1 \\\\ 1 & 0}  } $\n",
    "$ \\newcommand{\\Z}{ \\mymatrix{rr}{1 & 0 \\\\ 0 & -1}  } $\n",
    "$ \\newcommand{\\Htwo}{ \\mymatrix{rrrr}{ \\frac{1}{2} & \\frac{1}{2} & \\frac{1}{2} & \\frac{1}{2} \\\\ \\frac{1}{2} & -\\frac{1}{2} & \\frac{1}{2} & -\\frac{1}{2} \\\\ \\frac{1}{2} & \\frac{1}{2} & -\\frac{1}{2} & -\\frac{1}{2} \\\\ \\frac{1}{2} & -\\frac{1}{2} & -\\frac{1}{2} & \\frac{1}{2} } } $\n",
    "$ \\newcommand{\\CNOT}{ \\mymatrix{cccc}{1 & 0 & 0 & 0 \\\\ 0 & 1 & 0 & 0 \\\\ 0 & 0 & 0 & 1 \\\\ 0 & 0 & 1 & 0} } $\n",
    "$ \\newcommand{\\norm}[1]{ \\left\\lVert #1 \\right\\rVert } $\n",
    "$ \\newcommand{\\pstate}[1]{ \\lceil \\mspace{-1mu} #1 \\mspace{-1.5mu} \\rfloor } $"
   ]
  },
  {
   "cell_type": "markdown",
   "metadata": {},
   "source": [
    "<h1> <font color=\"blue\"> Solutions for </font> Order Finding Algorithm</h1>"
   ]
  },
  {
   "cell_type": "markdown",
   "metadata": {},
   "source": [
    "<a id=\"task1\"></a>\n",
    "<h3>Task 1</h3>\n",
    "\n",
    "Let $x=5$ and $N=21$. Plot $x^ i \\Mod{N}$ for $i$ values between $1$ and $50$ and find the order of $x$."
   ]
  },
  {
   "cell_type": "markdown",
   "metadata": {},
   "source": [
    "<h3>Solution</h3>"
   ]
  },
  {
   "cell_type": "code",
   "execution_count": 33,
   "metadata": {
    "scrolled": true
   },
   "outputs": [
    {
     "name": "stdout",
     "output_type": "stream",
     "text": [
      "81 4 0 1\n",
      "81 4 27 1\n",
      "81 4 54 1\n",
      "81 4 81 1\n",
      "81 4 108 1\n",
      "81 4 135 1\n",
      "81 4 162 1\n",
      "81 4 189 1\n",
      "81 4 216 1\n",
      "81 4 243 1\n",
      "81 4 270 1\n",
      "81 4 297 1\n",
      "81 4 324 1\n",
      "81 4 351 1\n",
      "81 4 378 1\n",
      "81 4 405 1\n",
      "81 4 432 1\n",
      "81 4 459 1\n",
      "81 4 486 1\n"
     ]
    }
   ],
   "source": [
    "import matplotlib.pyplot as plt\n",
    "#Create an empty list\n",
    "l = []\n",
    "x=4\n",
    "N=81\n",
    "\n",
    "#Append x^i mod N values\n",
    "for i in range (500):\n",
    "    if(((x**i) % N) == 1):print(N,x,i,(x**i) % N)\n",
    "\n",
    "\n",
    "#plt.plot(l)\n",
    "#plt.show()\n",
    "\n",
    "#print(l)"
   ]
  },
  {
   "cell_type": "markdown",
   "metadata": {},
   "source": [
    "Let's check each integer and stop when we find an integer $r$ satisfying $x^r = 1 \\Mod{N}$\n",
    "\n",
    "$ 5^1 = 5 ~\\mod 21 $ \n",
    ";$ 5^2 = 4 ~\\mod 21  $\n",
    "\n",
    "$ 5^3 = 20 \\mod 21 $\n",
    "\n",
    "$ 5^4 = 16 \\mod 21 $\n",
    "\n",
    "$ 5^5 = 17 \\mod 21 $\n",
    "\n",
    "$ 5^6 = 1 ~\\mod 21  $\n",
    "\n",
    "Hence the order $r$ is equal to 6."
   ]
  },
  {
   "cell_type": "markdown",
   "metadata": {},
   "source": [
    "<a id=\"task2\"></a>\n",
    "<h3>Task 2 (on paper)</h3>\n",
    "\n",
    "Let $\\ket{\\psi_0}=\\ket{1}+\\ket{x}+\\ket{x^2}+ \\cdots + \\ket{x^{r-1}}$. What is $U_x \\ket{\\psi_0}$? What can you conclude about $\\ket{\\psi_0}$?\n",
    "\n",
    "Repeat the same task for $\\ket{\\psi_1}=\\ket{1}+ \\omega^{-1}\\ket{x}+\\omega^{-2}\\ket{x^2}+ \\cdots + \\omega^{-(r-1)}  \\ket{x^{r-1}}$ where $\\omega=e^{-\\frac{2{\\pi}i}{r}}$."
   ]
  },
  {
   "cell_type": "markdown",
   "metadata": {},
   "source": [
    "<h3>Solution</h3>"
   ]
  },
  {
   "cell_type": "markdown",
   "metadata": {},
   "source": [
    "\\begin{align*}\n",
    "U_x\\ket{\\psi_0} &= U_x\\ket{1} + U_x \\ket{x}+ \\dots + U_x \\ket{x^{r-1}}\\\\\n",
    "&= \\ket{x} + \\ket{x^2}+ \\dots + \\ket{1} \\\\\n",
    "&= \\ket{\\psi_0}\n",
    "\\end{align*}\n",
    "\n",
    "Hence we can conclude that $\\ket{\\psi_0}$ is an eigenvector of the operator $U_x$ with eigenvalue 1."
   ]
  },
  {
   "cell_type": "markdown",
   "metadata": {},
   "source": [
    "Let's repeat the same for $\\ket{\\psi_1}$.\n",
    "\n",
    "\\begin{align*}\n",
    "U_x\\ket{\\psi_1} &= U_x\\ket{1} + \\omega^{-1}U_x  \\ket{x}+ \\dots +\\omega^{-(r-1)} U_x \\ket{x^{r-1}}\\\\\n",
    "&= \\ket{x} + \\omega^{-1}\\ket{x^2}+ \\dots + \\omega^{-(r-1)}\\ket{1} \\\\\n",
    "&= \\omega( \\omega^{-1}\\ket{x} + \\omega^{-2}\\ket{x^2}+ \\dots + \\omega^{-(r)}\\ket{1}) \\\\\n",
    "&= \\omega\\ket{\\psi_1}\n",
    "\\end{align*}\n",
    "\n",
    "Hence, $\\ket{\\psi_1}$ is an eigenvector of the operator $U_x$ with an eigenvalue $\\omega$."
   ]
  },
  {
   "cell_type": "markdown",
   "metadata": {},
   "source": [
    "<a id=\"task3\"></a>\n",
    "<h3>Task 3 (on paper)</h3>\n",
    "\n",
    "Show that $\\displaystyle \\frac{1}{\\sqrt{r}}\\sum_{s=0}^{r-1}\\ket{u_s}= \\ket{1}$."
   ]
  },
  {
   "cell_type": "markdown",
   "metadata": {},
   "source": [
    "<h3>Solution</h3>"
   ]
  },
  {
   "cell_type": "markdown",
   "metadata": {},
   "source": [
    "Let's replace $\\ket{u_s}$ in the sum above. We have the following expression:\n",
    "\n",
    "$ \\displaystyle \\frac{1}{\\sqrt{r}}\\sum_{s=0}^{r-1}\\ket{u_s}= \\frac{1}{\\sqrt{r}}\\sum_{s=0}^{r-1}\\frac{1}{\\sqrt{r}}\\sum_{k=0}^{r-1}e^{\\frac{-2{\\pi}i s k}{r}}\\ket{{x^k} \\Mod{N}}$"
   ]
  },
  {
   "cell_type": "markdown",
   "metadata": {},
   "source": [
    "If $ k=0 $, $ \\displaystyle \\sum_{s=0}^{r-1}e^{\\frac{-2{\\pi}i s k}{r}} = r $ and the state $ \\ket{1} $ has amplitude 1 in which case for all other $ k $, all amplitudes are equal to 0. Hence $ \\displaystyle \\frac{1}{\\sqrt{r}}\\sum_{s=0}^{r-1}\\ket{u_s}=\\ket{1}.$\n",
    "\t"
   ]
  },
  {
   "cell_type": "markdown",
   "metadata": {},
   "source": [
    "<a id=\"task4\"></a>\n",
    "\n",
    "<h3>Task 4</h3>\n",
    "\n",
    "Find the continued fractions expression for $\\frac{31}{13}$ and find the convergents first using pen and paper and then using the functions defined above."
   ]
  },
  {
   "cell_type": "markdown",
   "metadata": {},
   "source": [
    "<h3>Solution</h3>"
   ]
  },
  {
   "cell_type": "markdown",
   "metadata": {},
   "source": [
    "$\\frac{31}{13}$  can be expressed as $\\frac{31}{13}=2+\\frac{5}{13}$. Continuing like this,\n",
    "\n",
    "\\begin{align*}\n",
    "\t\t=2+\\frac{1}{2+\\frac{3}{5}} = 2+\\frac{1}{2+\\frac{1}{\\frac{5}{3}}}\n",
    "\t\t\\end{align*}\n",
    "        \n",
    "        "
   ]
  },
  {
   "cell_type": "markdown",
   "metadata": {},
   "source": [
    "The resulting expression will be \n",
    "\n",
    "\\begin{align*}\n",
    "2+\\frac{1}{2+\\frac{1}{1 + \\frac{1}{1+ \\frac{1}{2}}}}\n",
    "\\end{align*}\n",
    "\n",
    "with the continued fraction expression $[2,2,1,1,2]$. \n"
   ]
  },
  {
   "cell_type": "markdown",
   "metadata": {},
   "source": [
    "The convergents are $c_1=2$, $c_2=2 + \\frac{1}{2} = \\frac{5}{2} $, $c_3 = 2 + \\frac{1}{2 + \\frac{1}{1}} = \\frac{7}{3}$, $c_4 = 2+ \\frac{ 1}{2 + \\frac{1}{1 + \\frac{1}{1}}} = \\frac{12}{5}$, $c_5 = 2+\\frac{1}{2+\\frac{1}{1 + \\frac{1}{1+ \\frac{1}{2}}}}\n",
    " = \\frac{31}{13}$ "
   ]
  },
  {
   "cell_type": "markdown",
   "metadata": {},
   "source": [
    "Let's find the continued fractions expression and convergents for $\\frac{31}{13}$ using the functions defined in the notebook."
   ]
  },
  {
   "cell_type": "code",
   "execution_count": 2,
   "metadata": {
    "scrolled": true
   },
   "outputs": [],
   "source": [
    "%run ../include/helpers.py"
   ]
  },
  {
   "cell_type": "code",
   "execution_count": 36,
   "metadata": {
    "scrolled": true
   },
   "outputs": [
    {
     "name": "stdout",
     "output_type": "stream",
     "text": [
      "[2, 2, 1, 1, 2]\n",
      "[Fraction(1, 1), Fraction(5, 4), Fraction(11, 9), Fraction(16, 13)]\n"
     ]
    }
   ],
   "source": [
    "cf=contFrac(31/13)\n",
    "print(cf)\n",
    "cv=convergents([1,4,2,1])\n",
    "print(cv)"
   ]
  },
  {
   "cell_type": "markdown",
   "metadata": {},
   "source": [
    "<a id=\"task5\"></a>\n",
    "\n",
    "<h3>Task 5</h3>\n",
    "\n",
    "You are given a function named $U_x$ which implements $ U_x \\ket{y} \\rightarrow \\ket{xy {\\Mod{N}}}$ and returns its controlled version. Run the following cell to load the function."
   ]
  },
  {
   "cell_type": "code",
   "execution_count": 4,
   "metadata": {
    "scrolled": true
   },
   "outputs": [],
   "source": [
    "%run operator.py"
   ]
  },
  {
   "cell_type": "markdown",
   "metadata": {},
   "source": [
    "In order to use the function you should pass $x$ and $N$ as parameter.\n",
    "\n",
    "<pre>CU=Ux(x,N)</pre>"
   ]
  },
  {
   "cell_type": "markdown",
   "metadata": {},
   "source": [
    "Let $x=3$ and $N=20$. Use phase estimation procedure to find the estimates for $\\frac{s}{r}$. Pick the correct values for $t$ and $N$. You can use the <i>qpe</i> function you have already implemented. Plot your results using a histogram. Where do the peaks occur?"
   ]
  },
  {
   "cell_type": "markdown",
   "metadata": {},
   "source": [
    "<h3>Solution</h3>"
   ]
  },
  {
   "cell_type": "code",
   "execution_count": 5,
   "metadata": {
    "scrolled": true
   },
   "outputs": [],
   "source": [
    "# %load qpe.py\n",
    "import cirq\n",
    "def qpe(t,control, target, circuit, CU):\n",
    "    \n",
    "    #Apply Hadamard to control qubits\n",
    "    circuit.append(cirq.H.on_each(control))\n",
    "    \n",
    "    #Apply CU gates\n",
    "    for i in range(t):\n",
    "        #Obtain the power of CU gate \n",
    "        CUi = CU**(2**i)\n",
    "        #Apply CUi gate where t-i-1 is the control\n",
    "        circuit.append(CUi(control[t-i-1],*target))\n",
    "        \n",
    "    #Apply inverse QFT\n",
    "    iqft(t,control,circuit)\n"
   ]
  },
  {
   "cell_type": "code",
   "execution_count": 6,
   "metadata": {
    "scrolled": true
   },
   "outputs": [],
   "source": [
    "# %load iqft.py\n",
    "import cirq\n",
    "from cirq.circuits import InsertStrategy\n",
    "from cirq import H, SWAP, CZPowGate\n",
    "\n",
    "def iqft(n,qubits,circuit):\n",
    "    \n",
    "    #Swap the qubits\n",
    "    for i in range(n//2):\n",
    "        circuit.append(SWAP(qubits[i],qubits[n-i-1]), strategy = InsertStrategy.NEW)\n",
    "     \n",
    "    #For each qubit\n",
    "    for i in range(n-1,-1,-1):\n",
    "        #Apply CR_k gates where j is the control and i is the target\n",
    "        k=n-i #We start with k=n-i\n",
    "        for j in range(n-1,i,-1):\n",
    "            #Define and apply CR_k gate\n",
    "            crk = CZPowGate(exponent = -2/2**(k))\n",
    "            circuit.append(crk(qubits[j],qubits[i]),strategy = InsertStrategy.NEW)\n",
    "            k=k-1 #Decrement at each step\n",
    "            \n",
    "        #Apply Hadamard to the qubit\n",
    "        circuit.append(H(qubits[i]),strategy = InsertStrategy.NEW)\n"
   ]
  },
  {
   "cell_type": "markdown",
   "metadata": {},
   "source": [
    "$t$ should be picked as $2L + 1 + \\big \\lceil \\log \\big( 2 + \\frac{1}{2\\epsilon} \\big) \\big \\rceil$. Let $\\epsilon=0.1$. First let's find $L$."
   ]
  },
  {
   "cell_type": "code",
   "execution_count": 7,
   "metadata": {
    "scrolled": true
   },
   "outputs": [
    {
     "name": "stdout",
     "output_type": "stream",
     "text": [
      "5\n"
     ]
    }
   ],
   "source": [
    "import math\n",
    "L=math.ceil(math.log2(20))\n",
    "print(L)"
   ]
  },
  {
   "cell_type": "markdown",
   "metadata": {},
   "source": [
    "$ L= \\big \\lceil  \\log N \\big \\rceil $ = $ L= \\big \\lceil  \\log 20 \\big \\rceil =5.$"
   ]
  },
  {
   "cell_type": "code",
   "execution_count": 8,
   "metadata": {
    "scrolled": true
   },
   "outputs": [
    {
     "name": "stdout",
     "output_type": "stream",
     "text": [
      "14\n"
     ]
    }
   ],
   "source": [
    "e = 0.1\n",
    "num_t = 2*L+1+math.ceil(math.log2(2+1/(2*e)))\n",
    "print(num_t)"
   ]
  },
  {
   "cell_type": "code",
   "execution_count": 9,
   "metadata": {
    "scrolled": true
   },
   "outputs": [
    {
     "name": "stdout",
     "output_type": "stream",
     "text": [
      "Sample the circuit:\n",
      "Counter({0: 264, 4096: 260, 12288: 254, 8192: 222})\n"
     ]
    }
   ],
   "source": [
    "import cirq\n",
    "import matplotlib\n",
    "\n",
    "#Create a circuit\n",
    "circuit = cirq.Circuit()\n",
    "\n",
    "#Assign the size of the registers\n",
    "t=num_t\n",
    "n=L\n",
    "\n",
    "#Create control and target qubits\n",
    "control = [cirq.LineQubit(i) for i in range(1,t+1) ]\n",
    "target = [cirq.LineQubit(i) for i in range(t+1,t+1+n) ]\n",
    "circuit.append(cirq.X(target[n-1]))\n",
    "\n",
    "#Create operator CU\n",
    "x=3\n",
    "N=20\n",
    "CU=Ux(x,N)\n",
    "\n",
    "#Call phase estimation circuit\n",
    "qpe(t,control, target, circuit, CU)\n",
    "\n",
    "#Measure the control register\n",
    "circuit.append(cirq.measure(*control, key='result'))\n",
    "\n",
    "#Sample the circuit\n",
    "s=cirq.Simulator()\n",
    "print('Sample the circuit:')\n",
    "samples=s.run(circuit, repetitions=1000)\n",
    "\n",
    "# Print a histogram of results\n",
    "results= samples.histogram(key='result')\n",
    "print(results)"
   ]
  },
  {
   "cell_type": "code",
   "execution_count": 10,
   "metadata": {
    "scrolled": true
   },
   "outputs": [
    {
     "data": {
      "image/png": "[encoded data removed]",
      "text/plain": [
       "<Figure size 432x288 with 1 Axes>"
      ]
     },
     "metadata": {
      "needs_background": "light"
     },
     "output_type": "display_data"
    }
   ],
   "source": [
    "import matplotlib.pyplot as plt\n",
    "\n",
    "plt.bar([str(key) for key in results.keys()], results.values())\n",
    "plt.show()"
   ]
  },
  {
   "cell_type": "markdown",
   "metadata": {},
   "source": [
    "<a id=\"task6\"></a>\n",
    "<h3>Task 6</h3>\n",
    "\n",
    "For each one of the possible outcomes in Task 5, try to find out the value of $r$ using continued fractions algorithm. You can use the functions defined above."
   ]
  },
  {
   "cell_type": "markdown",
   "metadata": {},
   "source": [
    "<h3>Solution</h3>"
   ]
  },
  {
   "cell_type": "markdown",
   "metadata": {},
   "source": [
    "The outcomes are 0, 4096, 8192 and 12288."
   ]
  },
  {
   "cell_type": "markdown",
   "metadata": {},
   "source": [
    "- From 0, we don't get any meaningful result.\n",
    "\n",
    "- Let's check $\\frac{4096}{2^{14}}$."
   ]
  },
  {
   "cell_type": "code",
   "execution_count": 11,
   "metadata": {
    "scrolled": true
   },
   "outputs": [
    {
     "name": "stdout",
     "output_type": "stream",
     "text": [
      "[Fraction(0, 1), Fraction(1, 4)]\n"
     ]
    }
   ],
   "source": [
    "cf = contFrac(4096/2**14)\n",
    "cv = convergents(cf)\n",
    "print(cv)"
   ]
  },
  {
   "cell_type": "markdown",
   "metadata": {},
   "source": [
    "The candidate is $s'=1$ and $r'=4$. Indeed 4 is the answer as we have found in Task 1. Let's check the other cases as well."
   ]
  },
  {
   "cell_type": "code",
   "execution_count": 12,
   "metadata": {
    "scrolled": true
   },
   "outputs": [
    {
     "name": "stdout",
     "output_type": "stream",
     "text": [
      "[Fraction(0, 1), Fraction(1, 2)]\n"
     ]
    }
   ],
   "source": [
    "cf = contFrac(8192/2**14)\n",
    "cv = convergents(cf)\n",
    "print(cv)"
   ]
  },
  {
   "cell_type": "markdown",
   "metadata": {},
   "source": [
    "From 8192, we can not get the correct result. The reason is that $s=2$ and $r=4$ which are not relatively prime and as a result we get $s'=1$ and $r'=2$."
   ]
  },
  {
   "cell_type": "code",
   "execution_count": 13,
   "metadata": {
    "scrolled": true
   },
   "outputs": [
    {
     "name": "stdout",
     "output_type": "stream",
     "text": [
      "[Fraction(0, 1), Fraction(1, 1), Fraction(3, 4)]\n"
     ]
    }
   ],
   "source": [
    "cf = contFrac(12288/2**14)\n",
    "cv = convergents(cf)\n",
    "print(cv)"
   ]
  },
  {
   "cell_type": "markdown",
   "metadata": {},
   "source": [
    "The candidate is $s'=3$ and $r'=4$. We get the correct result."
   ]
  },
  {
   "cell_type": "markdown",
   "metadata": {},
   "source": [
    "<a id=\"task7\"></a>\n",
    "<h3>Task 7</h3>\n",
    "\n",
    "Repeat Task 5 and Task 6 with $x$=5 and $N=42$."
   ]
  },
  {
   "cell_type": "markdown",
   "metadata": {},
   "source": [
    "<h3>Solution</h3>"
   ]
  },
  {
   "cell_type": "code",
   "execution_count": 14,
   "metadata": {},
   "outputs": [],
   "source": [
    "%run operator.py"
   ]
  },
  {
   "cell_type": "code",
   "execution_count": 15,
   "metadata": {},
   "outputs": [],
   "source": [
    "# %load qpe.py\n",
    "import cirq\n",
    "def qpe(t,control, target, circuit, CU):\n",
    "    \n",
    "    #Apply Hadamard to control qubits\n",
    "    circuit.append(cirq.H.on_each(control))\n",
    "    \n",
    "    #Apply CU gates\n",
    "    for i in range(t):\n",
    "        #Obtain the power of CU gate \n",
    "        CUi = CU**(2**i)\n",
    "        #Apply CUi gate where t-i-1 is the control\n",
    "        circuit.append(CUi(control[t-i-1],*target))\n",
    "        \n",
    "    #Apply inverse QFT\n",
    "    iqft(t,control,circuit)\n"
   ]
  },
  {
   "cell_type": "code",
   "execution_count": 16,
   "metadata": {},
   "outputs": [],
   "source": [
    "# %load iqft.py\n",
    "import cirq\n",
    "from cirq.circuits import InsertStrategy\n",
    "from cirq import H, SWAP, CZPowGate\n",
    "\n",
    "def iqft(n,qubits,circuit):\n",
    "    \n",
    "    #Swap the qubits\n",
    "    for i in range(n//2):\n",
    "        circuit.append(SWAP(qubits[i],qubits[n-i-1]), strategy = InsertStrategy.NEW)\n",
    "     \n",
    "    #For each qubit\n",
    "    for i in range(n-1,-1,-1):\n",
    "        #Apply CR_k gates where j is the control and i is the target\n",
    "        k=n-i #We start with k=n-i\n",
    "        for j in range(n-1,i,-1):\n",
    "            #Define and apply CR_k gate\n",
    "            crk = CZPowGate(exponent = -2/2**(k))\n",
    "            circuit.append(crk(qubits[j],qubits[i]),strategy = InsertStrategy.NEW)\n",
    "            k=k-1 #Decrement at each step\n",
    "            \n",
    "        #Apply Hadamard to the qubit\n",
    "        circuit.append(H(qubits[i]),strategy = InsertStrategy.NEW)\n"
   ]
  },
  {
   "cell_type": "markdown",
   "metadata": {},
   "source": [
    "$t$ should be picked as $2L + 1 + \\big \\lceil \\log \\big( 2 + \\frac{1}{2\\epsilon} \\big) \\big \\rceil$. Let $\\epsilon=0.1$. First let's find $L$."
   ]
  },
  {
   "cell_type": "code",
   "execution_count": 17,
   "metadata": {
    "scrolled": true
   },
   "outputs": [
    {
     "name": "stdout",
     "output_type": "stream",
     "text": [
      "6\n"
     ]
    }
   ],
   "source": [
    "import math\n",
    "L=math.ceil(math.log2(42))\n",
    "print(L)"
   ]
  },
  {
   "cell_type": "markdown",
   "metadata": {},
   "source": [
    "$ L= \\big \\lceil  \\log N \\big \\rceil $ = $ L= \\big \\lceil  \\log 42 \\big \\rceil =6.$"
   ]
  },
  {
   "cell_type": "code",
   "execution_count": 18,
   "metadata": {
    "scrolled": true
   },
   "outputs": [
    {
     "name": "stdout",
     "output_type": "stream",
     "text": [
      "16\n"
     ]
    }
   ],
   "source": [
    "e = 0.1\n",
    "num_t = 2*L+1+math.ceil(math.log2(2+1/(2*e)))\n",
    "print(num_t)"
   ]
  },
  {
   "cell_type": "code",
   "execution_count": 19,
   "metadata": {
    "scrolled": true
   },
   "outputs": [
    {
     "name": "stdout",
     "output_type": "stream",
     "text": [
      "Sample the circuit:\n",
      "Counter({0: 165, 32768: 155, 54613: 129, 21845: 125, 43691: 123, 10923: 115, 10922: 31, 54614: 30, 43690: 27, 21846: 20, 10924: 9, 21847: 8, 54612: 7, 43689: 6, 10921: 4, 43692: 4, 21844: 4, 10920: 3, 10925: 2, 21843: 2, 43688: 2, 54615: 2, 54608: 2, 43687: 2, 10911: 1, 54618: 1, 10930: 1, 21850: 1, 10708: 1, 43707: 1, 21751: 1, 10972: 1, 54601: 1, 10917: 1, 21849: 1, 10856: 1, 43693: 1, 21842: 1, 54610: 1, 43694: 1, 10919: 1, 43679: 1, 10918: 1, 54625: 1, 54650: 1, 43697: 1, 10902: 1})\n"
     ]
    }
   ],
   "source": [
    "import cirq\n",
    "import matplotlib\n",
    "\n",
    "#Create a circuit\n",
    "circuit = cirq.Circuit()\n",
    "\n",
    "#Assign the size of the registers\n",
    "t=num_t\n",
    "n=L\n",
    "\n",
    "#Create control and target qubits\n",
    "control = [cirq.LineQubit(i) for i in range(1,t+1) ]\n",
    "target = [cirq.LineQubit(i) for i in range(t+1,t+1+n) ]\n",
    "circuit.append(cirq.X(target[n-1]))\n",
    "\n",
    "#Create operator CU\n",
    "x=5\n",
    "N=42\n",
    "CU=Ux(x,N)\n",
    "\n",
    "#Call phase estimation circuit\n",
    "qpe(t,control, target, circuit, CU)\n",
    "\n",
    "#Measure the control register\n",
    "circuit.append(cirq.measure(*control, key='result'))\n",
    "\n",
    "#Sample the circuit\n",
    "s=cirq.Simulator()\n",
    "print('Sample the circuit:')\n",
    "samples=s.run(circuit, repetitions=1000)\n",
    "\n",
    "# Print a histogram of results\n",
    "results= samples.histogram(key='result')\n",
    "print(results)"
   ]
  },
  {
   "cell_type": "code",
   "execution_count": 37,
   "metadata": {
    "scrolled": true
   },
   "outputs": [
    {
     "data": {
      "image/png": "[encoded data removed]",
      "text/plain": [
       "<Figure size 432x288 with 1 Axes>"
      ]
     },
     "metadata": {
      "needs_background": "light"
     },
     "output_type": "display_data"
    }
   ],
   "source": [
    "import matplotlib.pyplot as plt\n",
    "\n",
    "plt.bar(results.keys(), results.values())\n",
    "plt.show()"
   ]
  },
  {
   "cell_type": "markdown",
   "metadata": {},
   "source": [
    "The peaks occur at 0, 10923, 21845 32768, 43691, 54613. "
   ]
  },
  {
   "cell_type": "markdown",
   "metadata": {},
   "source": [
    "- From 0, we don't get any meaningful result.\n",
    "\n",
    "- Let's check $\\frac{10923}{2^{16}}$."
   ]
  },
  {
   "cell_type": "code",
   "execution_count": 21,
   "metadata": {
    "scrolled": true
   },
   "outputs": [
    {
     "name": "stdout",
     "output_type": "stream",
     "text": [
      "[Fraction(0, 1), Fraction(1, 5), Fraction(1, 6), Fraction(1, 6), Fraction(1, 6)]\n"
     ]
    }
   ],
   "source": [
    "cf = contFrac(10923/2**16)\n",
    "cv = convergents(cf)\n",
    "print(cv)"
   ]
  },
  {
   "cell_type": "markdown",
   "metadata": {},
   "source": [
    "The candidates are $s'=1$, $r'=5$ and $s''=1$, $r''=6$. Indeed the answer is 6. "
   ]
  },
  {
   "cell_type": "code",
   "execution_count": 22,
   "metadata": {
    "scrolled": true
   },
   "outputs": [
    {
     "name": "stdout",
     "output_type": "stream",
     "text": [
      "[Fraction(0, 1), Fraction(1, 3)]\n"
     ]
    }
   ],
   "source": [
    "cf = contFrac(21845/2**16)\n",
    "cv = convergents(cf)\n",
    "print(cv)"
   ]
  },
  {
   "cell_type": "markdown",
   "metadata": {},
   "source": [
    "From 21845, we can not get the correct result. The reason is that $s=2$ and $r=6$ which are not relatively prime and as a result we get $s'=1$ and $r'=3$."
   ]
  },
  {
   "cell_type": "code",
   "execution_count": 23,
   "metadata": {
    "scrolled": true
   },
   "outputs": [
    {
     "name": "stdout",
     "output_type": "stream",
     "text": [
      "[Fraction(0, 1), Fraction(1, 2)]\n"
     ]
    }
   ],
   "source": [
    "cf = contFrac(32768/2**16)\n",
    "cv = convergents(cf)\n",
    "print(cv)"
   ]
  },
  {
   "cell_type": "markdown",
   "metadata": {},
   "source": [
    "From 32768, we can not get the correct result. The reason is that $s=3$ and $r=6$ which are not relatively prime and as a result we get $s'=1$ and $r'=2$."
   ]
  },
  {
   "cell_type": "code",
   "execution_count": 24,
   "metadata": {
    "scrolled": true
   },
   "outputs": [
    {
     "name": "stdout",
     "output_type": "stream",
     "text": [
      "[Fraction(0, 1), Fraction(1, 1), Fraction(2, 3)]\n"
     ]
    }
   ],
   "source": [
    "cf = contFrac(43691/2**16)\n",
    "cv = convergents(cf)\n",
    "print(cv)"
   ]
  },
  {
   "cell_type": "markdown",
   "metadata": {},
   "source": [
    "From 43691, we can not get the correct result. The reason is that $s=4$ and $r=6$ which are not relatively prime and as a result we get $s'=2$ and $r'=3$."
   ]
  },
  {
   "cell_type": "code",
   "execution_count": 25,
   "metadata": {
    "scrolled": true
   },
   "outputs": [
    {
     "name": "stdout",
     "output_type": "stream",
     "text": [
      "[Fraction(0, 1), Fraction(1, 1), Fraction(4, 5), Fraction(5, 6), Fraction(5, 6), Fraction(5, 6)]\n"
     ]
    }
   ],
   "source": [
    "cf = contFrac(54613/2**16)\n",
    "cv = convergents(cf)\n",
    "print(cv)"
   ]
  },
  {
   "cell_type": "markdown",
   "metadata": {},
   "source": [
    "The candidates are $s'=4$, $r'=5$ and $s''=5$, $r''=6$."
   ]
  }
 ],
 "metadata": {
  "kernelspec": {
   "display_name": "Python 3",
   "language": "python",
   "name": "python3"
  },
  "language_info": {
   "codemirror_mode": {
    "name": "ipython",
    "version": 3
   },
   "file_extension": ".py",
   "mimetype": "text/x-python",
   "name": "python",
   "nbconvert_exporter": "python",
   "pygments_lexer": "ipython3",
   "version": "3.8.8"
  }
 },
 "nbformat": 4,
 "nbformat_minor": 2
}
