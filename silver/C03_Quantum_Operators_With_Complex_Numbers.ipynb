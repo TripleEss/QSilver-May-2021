{
 "cells": [
  {
   "cell_type": "markdown",
   "metadata": {},
   "source": [
    "<table align=\"left\"  width=\"100%\"> <tr>\n",
    "        <td  style=\"background-color:#ffffff;\">\n",
    "            <a href=\"http://qworld.lu.lv\" target=\"_blank\"><img src=\"..\\images\\qworld.jpg\" width=\"35%\" align=\"left\"> </a></td>\n",
    "        <td style=\"background-color:#ffffff;vertical-align:bottom;text-align:right;\">\n",
    "            prepared by Maksim Dimitrijev (<a href=\"http://qworld.lu.lv/index.php/qlatvia/\" target=\"_blank\">QLatvia</a>)\n",
    "        </td>        \n",
    "</tr></table>"
   ]
  },
  {
   "cell_type": "markdown",
   "metadata": {},
   "source": [
    "<table width=\"100%\"><tr><td style=\"color:#bbbbbb;background-color:#ffffff;font-size:11px;font-style:italic;text-align:right;\">This cell contains some macros. If there is a problem with displaying mathematical formulas, please run this cell to load these macros. </td></tr></table>\n",
    "$ \\newcommand{\\bra}[1]{\\langle #1|} $\n",
    "$ \\newcommand{\\ket}[1]{|#1\\rangle} $\n",
    "$ \\newcommand{\\braket}[2]{\\langle #1|#2\\rangle} $\n",
    "$ \\newcommand{\\dot}[2]{ #1 \\cdot #2} $\n",
    "$ \\newcommand{\\biginner}[2]{\\left\\langle #1,#2\\right\\rangle} $\n",
    "$ \\newcommand{\\mymatrix}[2]{\\left( \\begin{array}{#1} #2\\end{array} \\right)} $\n",
    "$ \\newcommand{\\myvector}[1]{\\mymatrix{c}{#1}} $\n",
    "$ \\newcommand{\\myrvector}[1]{\\mymatrix{r}{#1}} $\n",
    "$ \\newcommand{\\mypar}[1]{\\left( #1 \\right)} $\n",
    "$ \\newcommand{\\mybigpar}[1]{ \\Big( #1 \\Big)} $\n",
    "$ \\newcommand{\\sqrttwo}{\\frac{1}{\\sqrt{2}}} $\n",
    "$ \\newcommand{\\dsqrttwo}{\\dfrac{1}{\\sqrt{2}}} $\n",
    "$ \\newcommand{\\onehalf}{\\frac{1}{2}} $\n",
    "$ \\newcommand{\\donehalf}{\\dfrac{1}{2}} $\n",
    "$ \\newcommand{\\hadamard}{ \\mymatrix{rr}{ \\sqrttwo & \\sqrttwo \\\\ \\sqrttwo & -\\sqrttwo }} $\n",
    "$ \\newcommand{\\vzero}{\\myvector{1\\\\0}} $\n",
    "$ \\newcommand{\\vone}{\\myvector{0\\\\1}} $\n",
    "$ \\newcommand{\\stateplus}{\\myvector{ \\sqrttwo \\\\  \\sqrttwo } } $\n",
    "$ \\newcommand{\\stateminus}{ \\myrvector{ \\sqrttwo \\\\ -\\sqrttwo } } $\n",
    "$ \\newcommand{\\myarray}[2]{ \\begin{array}{#1}#2\\end{array}} $\n",
    "$ \\newcommand{\\X}{ \\mymatrix{cc}{0 & 1 \\\\ 1 & 0}  } $\n",
    "$ \\newcommand{\\Z}{ \\mymatrix{rr}{1 & 0 \\\\ 0 & -1}  } $\n",
    "$ \\newcommand{\\Htwo}{ \\mymatrix{rrrr}{ \\frac{1}{2} & \\frac{1}{2} & \\frac{1}{2} & \\frac{1}{2} \\\\ \\frac{1}{2} & -\\frac{1}{2} & \\frac{1}{2} & -\\frac{1}{2} \\\\ \\frac{1}{2} & \\frac{1}{2} & -\\frac{1}{2} & -\\frac{1}{2} \\\\ \\frac{1}{2} & -\\frac{1}{2} & -\\frac{1}{2} & \\frac{1}{2} } } $\n",
    "$ \\newcommand{\\CNOT}{ \\mymatrix{cccc}{1 & 0 & 0 & 0 \\\\ 0 & 1 & 0 & 0 \\\\ 0 & 0 & 0 & 1 \\\\ 0 & 0 & 1 & 0} } $\n",
    "$ \\newcommand{\\norm}[1]{ \\left\\lVert #1 \\right\\rVert } $\n",
    "$ \\newcommand{\\pstate}[1]{ \\lceil \\mspace{-1mu} #1 \\mspace{-1.5mu} \\rfloor } $\n",
    "$ \\newcommand{\\Y}{ \\mymatrix{rr}{0 & -i \\\\ i & 0} } $ $ \\newcommand{\\S}{ \\mymatrix{rr}{1 & 0 \\\\ 0 & i} } $ \n",
    "$ \\newcommand{\\T}{ \\mymatrix{rr}{1 & 0 \\\\ 0 & e^{i \\frac{pi}{4}}} } $ \n",
    "$ \\newcommand{\\Sdg}{ \\mymatrix{rr}{1 & 0 \\\\ 0 & -i} } $ \n",
    "$ \\newcommand{\\Tdg}{ \\mymatrix{rr}{1 & 0 \\\\ 0 & e^{-i \\frac{pi}{4}}} } $\n"
   ]
  },
  {
   "cell_type": "markdown",
   "metadata": {},
   "source": [
    "<h1> Quantum operators with complex numbers </h1>\n",
    "\n",
    "We remind you the main property of a quantum operator.\n",
    "\n",
    "<font color=\"blue\"><b>Quantum operator should be a length preserving square matrix.</b></font>\n",
    "\n",
    "If the matrix $U$ is length preserving (also called unitary), the following equality should hold:\n",
    "\n",
    "$U^{\\dagger}U=I$, where:\n",
    "\n",
    "<ul>\n",
    "    <li>$I$ is identity matrix;</li>\n",
    "    <li>$U^{\\dagger}$ is conjugate transpose of the matrix $U$.</li>\n",
    "</ul>"
   ]
  },
  {
   "cell_type": "markdown",
   "metadata": {},
   "source": [
    "<h2> Conjugate transpose of the matrix </h2"
   ]
  },
  {
   "cell_type": "markdown",
   "metadata": {},
   "source": [
    "To obtain $U^{\\dagger}$ from $U$, you need to take $U$ and do the following:\n",
    "<ul>\n",
    "    <li>Exchange the rows and columns, such that for each $i$ and $j$ the entry of $i$th row and $j$th column will appear in $i$th column and $j$th row;</li>\n",
    "    <li>Replace each obtained entry with its conjugate value.</li>\n",
    "</ul>\n",
    "\n",
    "If you are given matrix $U = \\mymatrix{cc}{ a_{11} & a_{12} \\\\ a_{21} & a_{22} }$, then $U^{\\dagger} = \\mymatrix{cc}{ \\overline{a_{11}} & \\overline{a_{21}} \\\\ \\overline{a_{12}} & \\overline{a_{22}} }$, where $\\overline{a+bi} = a-bi$."
   ]
  },
  {
   "cell_type": "markdown",
   "metadata": {},
   "source": [
    "<h3>Example</h3>\n",
    "\n",
    "Let's check Hadamard operator:\n",
    "\n",
    "$$\n",
    "    H = \\hadamard.\n",
    "$$\n",
    "\n",
    "It is easy to see that $H^{\\dagger} = H$. Also you may remember that $HH = I$, which means that the property of length preserving operator is fulfilled for Hadamard operator.\n",
    "\n",
    "Suppose that we have the following quantum state: $\\myvector{ \\frac{1+i}{\\sqrt{3}} \\\\ -\\frac{1}{\\sqrt{3}} }$. The square of the length of this vector is equal to $\\mathopen|\\frac{1+i}{\\sqrt{3}}\\mathclose|^2 + (-\\frac{1}{\\sqrt{3}})^2 = (\\sqrt{\\frac{1}{3} + \\frac{1}{3}})^2 + \\frac{1}{3} = \\frac{2}{3} + \\frac{1}{3} = 1$, so this is a valid quantum state. Let's apply Hadamard to this state and check whether the length is still equal to 1.\n",
    "\n",
    "$$\n",
    "H \\myvector{ \\frac{1+i}{\\sqrt{3}} \\\\ -\\frac{1}{\\sqrt{3}} } =  \\hadamard \\myvector{ \\frac{1+i}{\\sqrt{3}} \\\\ -\\frac{1}{\\sqrt{3}} } = \\myvector{ \\left (\\frac{1+i}{\\sqrt{3}} \\cdot \\frac{1}{\\sqrt{2}} \\right ) + \n",
    "\\left(-\\frac{1}{\\sqrt{3}} \\cdot \\frac{1}{\\sqrt{2}} \\right ) \\\\ \\left ( \\frac{1+i}{\\sqrt{3}} \\cdot \\frac{1}{\\sqrt{2}} \\right ) +\n",
    "\\left ( -\\frac{1}{\\sqrt{3}} \\cdot -\\frac{1}{\\sqrt{2}} \\right ) } = \\myvector{ \\frac{1+i-1}{\\sqrt{6}} \\\\ \\frac{1+i+1}{\\sqrt{6}} } = \\myvector{ \\frac{i}{\\sqrt{6}} \\\\ \\frac{2+i}{\\sqrt{6}} }.\n",
    "$$\n",
    "\n",
    "The length of the vector is $\\mathopen|\\frac{i}{\\sqrt{6}}\\mathclose|^2 + \\mathopen|\\frac{2+i}{\\sqrt{6}}\\mathclose|^2 = (\\sqrt{\\frac{1}{6}})^2 + (\\sqrt{\\frac{4}{6} + \\frac{1}{6}})^2 = \\frac{1}{6} + \\frac{5}{6} = 1$."
   ]
  },
  {
   "cell_type": "markdown",
   "metadata": {},
   "source": [
    "Now we will check the most basic quantum operator with complex values. We know the X and Z operators, and curious people might ask, where is the remaining coordinate - $Y$ operator. Now we are ready to check the $Y$ operator:\n",
    "\n",
    "$$\n",
    "    Y = \\Y.\n",
    "$$"
   ]
  },
  {
   "cell_type": "markdown",
   "metadata": {},
   "source": [
    "<h3> Task 1 </h3>\n",
    "\n",
    "Verify that $Y^{\\dagger} = Y$ and that $YY = I$.\n",
    "\n"
   ]
  },
  {
   "cell_type": "markdown",
   "metadata": {},
   "source": [
    "<a href=\"C03_Quantum_Operators_With_Complex_Numbers_Solutions.ipynb#task1\">click for our solution</a>"
   ]
  },
  {
   "cell_type": "markdown",
   "metadata": {},
   "source": [
    "$Y$ operator is similar to $X$ operator, but now we do not only exchange the values of the two basis states, but also multiply them by some imaginary number. Let's check this operator on the previously checked quantum state: $\\myvector{ \\frac{1+i}{\\sqrt{3}} \\\\ -\\frac{1}{\\sqrt{3}} }$.\n",
    "\n",
    "$$\n",
    "Y \\myvector{ \\frac{1+i}{\\sqrt{3}} \\\\ -\\frac{1}{\\sqrt{3}} } = \\Y \\myvector{ \\frac{1+i}{\\sqrt{3}} \\\\ -\\frac{1}{\\sqrt{3}} } = \\myvector{ -\\frac{-i}{\\sqrt{3}} \\\\ \\frac{i+i^2}{\\sqrt{3}} } = \\myvector{ \\frac{i}{\\sqrt{3}} \\\\ \\frac{-1+i}{\\sqrt{3}} }.\n",
    "$$"
   ]
  },
  {
   "cell_type": "markdown",
   "metadata": {},
   "source": [
    "Now we will check one more quantum operator with complex numbers, which is not one of the of basic gates provided in Qiskit:\n",
    "\n",
    "$$\n",
    "\\mymatrix{cc}{ \\frac{1+i}{2} & \\frac{1-i}{2} \\\\ \\frac{1-i}{2} & \\frac{1+i}{2} }.\n",
    "$$"
   ]
  },
  {
   "cell_type": "markdown",
   "metadata": {},
   "source": [
    "<h3> Task 2</h3>\n",
    "\n",
    "Randomly create a 2-dimensional quantum state, where both amplitudes are complex numbers (you can use your solution from previous notebook, Task 3). After that apply the mentioned operator to the generated state and verify that the resulting state is a valid quantum state.\n",
    "\n",
    "<b>Repeat several times:</b>\n",
    "<ul>\n",
    "    <li> Randomly pick a quantum state. </li>\n",
    "    <li> Apply the mentioned operator to the state. </li>\n",
    "    <li> Check whether the resulting quantum state is valid. </li>"
   ]
  },
  {
   "cell_type": "code",
   "execution_count": 2,
   "metadata": {},
   "outputs": [],
   "source": [
    "# %load random_complex_quantum_state.py\n",
    "from random import randrange\n",
    "def random_complex_quantum_state():\n",
    "    # quantum state    \n",
    "    quantum_state=[0,0]\n",
    "    length_square = 0\n",
    "    while length_square == 0:\n",
    "        first_entry_real = randrange(-100,101)\n",
    "        first_entry_imag = randrange(-100,101)\n",
    "        second_entry_real = randrange(-100,101)\n",
    "        second_entry_imag = randrange(-100,101)\n",
    "        length_square = first_entry_real**2+first_entry_imag**2+second_entry_real**2+second_entry_imag**2\n",
    "    first_entry_real = first_entry_real / length_square**0.5\n",
    "    first_entry_imag = first_entry_imag / length_square**0.5\n",
    "    second_entry_real = second_entry_real / length_square**0.5\n",
    "    second_entry_imag = second_entry_imag / length_square**0.5\n",
    "    quantum_state[0] = complex(first_entry_real, first_entry_imag)\n",
    "    quantum_state[1] = complex(second_entry_real, second_entry_imag)\n",
    "    return quantum_state\n"
   ]
  },
  {
   "cell_type": "code",
   "execution_count": 3,
   "metadata": {},
   "outputs": [],
   "source": [
    "# %load is_quantum_state.py\n",
    "# testing whether a given quantum state is valid\n",
    "def is_quantum_state(quantum_state):\n",
    "    length_square = 0\n",
    "    for i in range(len(quantum_state)):\n",
    "        length_square += abs(quantum_state[i])**2\n",
    "    print(\"summation of entry squares is\",length_square)\n",
    "    # there might be precision problem\n",
    "    # the length may be very close to 1 but not exactly 1\n",
    "    # so we use the following trick\n",
    "    if (length_square - 1)**2 < 0.00000001: return True \n",
    "    return False\n"
   ]
  },
  {
   "cell_type": "code",
   "execution_count": 9,
   "metadata": {},
   "outputs": [
    {
     "name": "stdout",
     "output_type": "stream",
     "text": [
      "initial_state [(-0.5150082761345732-0.47624421233949776j), (-0.49839510593668374+0.5094705527352767j)]\n",
      "new_state [(-0.013844308498241226+0.008306585098944774j), (-0.9995590735730158+0.02491975529683424j)]\n",
      "summation of entry squares is 1.0000000000000002\n",
      "Is it valid quantum state? True\n",
      "\n",
      "initial_state [(0.7135971125897005+0.5769508569874174j), (0.3947558495177067-0.04554875186742769j)]\n",
      "new_state [(0.24292667662628104+0.4251216840959917j), (0.8654262854811261+0.10628042102399798j)]\n",
      "summation of entry squares is 0.9999999999999997\n",
      "Is it valid quantum state? True\n",
      "\n",
      "initial_state [(-0.6029399561478094-0.6294428113630978j), (0.47705139387518986-0.1126371346649754j)]\n",
      "new_state [(0.19545855721275143-0.9110356480255362j), (-0.3213471194853709+0.16895570199746304j)]\n",
      "summation of entry squares is 0.9999999999999998\n",
      "Is it valid quantum state? True\n",
      "\n",
      "initial_state [(0.8675427371123363+0.22217557901657395j), (-0.21159578953959424+0.3914522106482493j)]\n",
      "new_state [(0.41261178960220873+0.846383158158377j), (0.2433351579705334-0.23275536849355366j)]\n",
      "summation of entry squares is 0.9999999999999998\n",
      "Is it valid quantum state? True\n",
      "\n",
      "initial_state [(-0.41122049614645845+0.837671381039082j), (-0.21322544244631178+0.28937738617713743j)]\n",
      "new_state [(-0.5863699667273574+0.4645268567580364j), (-0.03807597186541281+0.662521910458183j)]\n",
      "summation of entry squares is 0.9999999999999998\n",
      "Is it valid quantum state? True\n",
      "\n"
     ]
    }
   ],
   "source": [
    "for i in range(5):\n",
    "    initial_state = random_complex_quantum_state()\n",
    "    new_state = [0,0]\n",
    "    new_state[0] = initial_state[0] * complex(1/2,1/2) + initial_state[1] * complex(1/2,-1/2)\n",
    "    new_state[1] = initial_state[0] * complex(1/2,-1/2) + initial_state[1] * complex(1/2,1/2)\n",
    "    print(\"initial_state\",initial_state)\n",
    "    print(\"new_state\",new_state)\n",
    "    print(\"Is it valid quantum state?\",is_quantum_state(new_state))\n",
    "    print()"
   ]
  },
  {
   "cell_type": "markdown",
   "metadata": {},
   "source": [
    "<a href=\"C03_Quantum_Operators_With_Complex_Numbers_Solutions.ipynb#task2\">click for our solution</a>"
   ]
  },
  {
   "cell_type": "markdown",
   "metadata": {},
   "source": [
    "<h3> Task 3</h3>\n",
    "\n",
    "Repeat Task 2, but with Hadamard operator. Note that you should load the necessary functions if you did not complete Task 2."
   ]
  },
  {
   "cell_type": "code",
   "execution_count": 11,
   "metadata": {},
   "outputs": [
    {
     "name": "stdout",
     "output_type": "stream",
     "text": [
      "initial_state [(0.6439577752050915-0.35775431955838416j), (-0.48784679939779657-0.4683329274218847j)]\n",
      "new_state [(0.11038712961098729-0.5841318941914744j), (0.8003066896796578+0.07819088347444936j)]\n",
      "summation of entry squares is 0.9999999999999997\n",
      "Is it valid quantum state? True\n",
      "\n",
      "initial_state [(0.07388113544633762+0.4063462449548569j), (-0.7849870641173372-0.4617570965396101j)]\n",
      "new_state [(-0.5028278243052211-0.039181388906900316j), (0.6073115280569554+0.6138417595414387j)]\n",
      "summation of entry squares is 0.9999999999999998\n",
      "Is it valid quantum state? True\n",
      "\n",
      "initial_state [(-0.36713148445452604+0.6873951198297509j), (0.6249046543906827-0.0468678490793012j)]\n",
      "new_state [(0.18227315646980863+0.4529211766825547j), (-0.7014754809595665+0.5192023244897578j)]\n",
      "summation of entry squares is 1.0000000000000002\n",
      "Is it valid quantum state? True\n",
      "\n",
      "initial_state [(0.012768154058820523+0.9193070922350777j), (-0.08937707841174367-0.3830446217646157j)]\n",
      "new_state [(-0.0541706899093592+0.3791948293655144j), (0.07222758654581227+0.9209017284591062j)]\n",
      "summation of entry squares is 0.9999999999999998\n",
      "Is it valid quantum state? True\n",
      "\n",
      "initial_state [(0.38185378196002534-0.5390876921788593j), (0.4717017306565019+0.5840116665270976j)]\n",
      "new_state [(0.6035548910903061+0.03176604689948975j), (-0.06353209379897956-0.7941511724872448j)]\n",
      "summation of entry squares is 1.0\n",
      "Is it valid quantum state? True\n",
      "\n"
     ]
    }
   ],
   "source": [
    "for i in range(5):\n",
    "    initial_state = random_complex_quantum_state()\n",
    "    new_state = [0,0]\n",
    "    new_state[0] = initial_state[0] * (1/(2**0.5)) + initial_state[1] * (1/(2**0.5))\n",
    "    new_state[1] = initial_state[0] * (1/(2**0.5)) + initial_state[1] * (-1/(2**0.5))\n",
    "    print(\"initial_state\",initial_state)\n",
    "    print(\"new_state\",new_state)\n",
    "    print(\"Is it valid quantum state?\",is_quantum_state(new_state))\n",
    "    print()"
   ]
  },
  {
   "cell_type": "markdown",
   "metadata": {},
   "source": [
    "<a href=\"C03_Quantum_Operators_With_Complex_Numbers_Solutions.ipynb#task3\">click for our solution</a>"
   ]
  },
  {
   "cell_type": "markdown",
   "metadata": {},
   "source": [
    "<h3> Task 4</h3>\n",
    "\n",
    "Repeat Task 2 with the following quantum operators. Note that you should load the necessary functions if you did not complete Task 2.\n",
    "\n",
    "$$\n",
    "\\S \\mbox{ and } \\T.\n",
    "$$"
   ]
  },
  {
   "cell_type": "code",
   "execution_count": 12,
   "metadata": {},
   "outputs": [
    {
     "name": "stdout",
     "output_type": "stream",
     "text": [
      "First operator:\n",
      "initial_state [(0.2753059000067871-0.9392789529643326j), (0.06477785882512639-0.19433357647537916j)]\n",
      "new_state [(0.2753059000067871-0.9392789529643326j), (0.19433357647537916+0.06477785882512639j)]\n",
      "summation of entry squares is 1.0000000000000002\n",
      "Is it valid quantum state? True\n",
      "\n",
      "initial_state [(0.008177514292416423+0.44158577179048686j), (-0.6623786576857302-0.6051360576388153j)]\n",
      "new_state [(0.008177514292416423+0.44158577179048686j), (0.6051360576388153-0.6623786576857302j)]\n",
      "summation of entry squares is 1.0\n",
      "Is it valid quantum state? True\n",
      "\n",
      "initial_state [(-0.6208269295729584-0.760512988726874j), (-0.0388016830983099-0.18624807887188752j)]\n",
      "new_state [(-0.6208269295729584-0.760512988726874j), (0.18624807887188752-0.0388016830983099j)]\n",
      "summation of entry squares is 0.9999999999999999\n",
      "Is it valid quantum state? True\n",
      "\n",
      "initial_state [(-0.5519226749174421+0.15331185414373388j), (0.34495167182340125+0.7435624925971094j)]\n",
      "new_state [(-0.5519226749174421+0.15331185414373388j), (-0.7435624925971094+0.34495167182340125j)]\n",
      "summation of entry squares is 0.9999999999999998\n",
      "Is it valid quantum state? True\n",
      "\n",
      "initial_state [(0.13578622952288266-0.5770914754722514j), (-0.2715724590457653+0.7581397815027616j)]\n",
      "new_state [(0.13578622952288266-0.5770914754722514j), (-0.7581397815027616-0.2715724590457653j)]\n",
      "summation of entry squares is 1.0\n",
      "Is it valid quantum state? True\n",
      "\n"
     ]
    }
   ],
   "source": [
    "print('First operator:')\n",
    "for i in range(5):\n",
    "    initial_state = random_complex_quantum_state()\n",
    "    new_state = [0,0]\n",
    "    new_state[0] = initial_state[0] * 1 + initial_state[1] * 0\n",
    "    new_state[1] = initial_state[0] * 0 + initial_state[1] * complex(0,1)\n",
    "    print(\"initial_state\",initial_state)\n",
    "    print(\"new_state\",new_state)\n",
    "    print(\"Is it valid quantum state?\",is_quantum_state(new_state))\n",
    "    print()"
   ]
  },
  {
   "cell_type": "code",
   "execution_count": 14,
   "metadata": {},
   "outputs": [
    {
     "name": "stdout",
     "output_type": "stream",
     "text": [
      "Second operator:\n",
      "initial_state [(0.08483109975988126+0.18662841947173878j), (0.5429190384632401+0.8143785576948601j)]\n",
      "new_state [(0.08483109975988126+0.18662841947173878j), (-0.19195086686631857+0.9597543343315926j)]\n",
      "summation of entry squares is 0.9999999999999999\n",
      "Is it valid quantum state? True\n",
      "\n",
      "initial_state [(0.43327789389979754-0.7929802963826483j), (-0.39240262089038264+0.17167614663954242j)]\n",
      "new_state [(0.43327789389979754-0.7929802963826483j), (-0.3988639216437601-0.15607718673016696j)]\n",
      "summation of entry squares is 1.0\n",
      "Is it valid quantum state? True\n",
      "\n",
      "initial_state [(0.4122802489520084+0.5820427044028353j), (0.5577909250527172-0.42440613862706744j)]\n",
      "new_state [(0.4122802489520084+0.5820427044028353j), (0.6945182041894908+0.09431728698869629j)]\n",
      "summation of entry squares is 0.9999999999999997\n",
      "Is it valid quantum state? True\n",
      "\n",
      "initial_state [(0.47182280568369983-0.08402323936833012j), (0.6075526538940793-0.6334059583151039j)]\n",
      "new_state [(0.47182280568369983-0.08402323936833012j), (0.8774902498649606-0.018281046872186624j)]\n",
      "summation of entry squares is 1.0000000000000002\n",
      "Is it valid quantum state? True\n",
      "\n",
      "initial_state [(-0.42784256980132895+0.41256247802271007j), (0.7792846807095635+0.1986411931220456j)]\n",
      "new_state [(-0.42784256980132895+0.41256247802271007j), (0.4105769475249408+0.6914980168841107j)]\n",
      "summation of entry squares is 0.9999999999999999\n",
      "Is it valid quantum state? True\n",
      "\n"
     ]
    }
   ],
   "source": [
    "print('Second operator:')\n",
    "for i in range(5):\n",
    "    initial_state = random_complex_quantum_state()\n",
    "    new_state = [0,0]\n",
    "    new_state[0] = initial_state[0] * 1 + initial_state[1] * 0\n",
    "    new_state[1] = initial_state[0] * 0 + initial_state[1] * complex(1/(2**0.5),1/(2**0.5))\n",
    "    print(\"initial_state\",initial_state)\n",
    "    print(\"new_state\",new_state)\n",
    "    print(\"Is it valid quantum state?\",is_quantum_state(new_state))\n",
    "    print()"
   ]
  },
  {
   "cell_type": "markdown",
   "metadata": {},
   "source": [
    "<a href=\"C03_Quantum_Operators_With_Complex_Numbers_Solutions.ipynb#task4\">click for our solution</a>"
   ]
  },
  {
   "cell_type": "code",
   "execution_count": null,
   "metadata": {},
   "outputs": [],
   "source": []
  }
 ],
 "metadata": {
  "kernelspec": {
   "display_name": "Python 3",
   "language": "python",
   "name": "python3"
  },
  "language_info": {
   "codemirror_mode": {
    "name": "ipython",
    "version": 3
   },
   "file_extension": ".py",
   "mimetype": "text/x-python",
   "name": "python",
   "nbconvert_exporter": "python",
   "pygments_lexer": "ipython3",
   "version": "3.8.8"
  }
 },
 "nbformat": 4,
 "nbformat_minor": 2
}
