{
 "cells": [
  {
   "cell_type": "markdown",
   "metadata": {},
   "source": [
    "<table align=\"left\"  width=\"100%\"> <tr>\n",
    "        <td  style=\"background-color:#ffffff;\">\n",
    "            <a href=\"http://qworld.lu.lv\" target=\"_blank\"><img src=\"..\\images\\qworld.jpg\" width=\"35%\" align=\"left\"> </a></td>\n",
    "        <td style=\"background-color:#ffffff;vertical-align:bottom;text-align:right;\">\n",
    "            prepared by Maksim Dimitrijev (<a href=\"http://qworld.lu.lv/index.php/qlatvia/\" target=\"_blank\">QLatvia</a>)\n",
    "        </td>        \n",
    "</tr></table>"
   ]
  },
  {
   "cell_type": "markdown",
   "metadata": {},
   "source": [
    "<table width=\"100%\"><tr><td style=\"color:#bbbbbb;background-color:#ffffff;font-size:11px;font-style:italic;text-align:right;\">This cell contains some macros. If there is a problem with displaying mathematical formulas, please run this cell to load these macros. </td></tr></table>\n",
    "$ \\newcommand{\\bra}[1]{\\langle #1|} $\n",
    "$ \\newcommand{\\ket}[1]{|#1\\rangle} $\n",
    "$ \\newcommand{\\braket}[2]{\\langle #1|#2\\rangle} $\n",
    "$ \\newcommand{\\dot}[2]{ #1 \\cdot #2} $\n",
    "$ \\newcommand{\\biginner}[2]{\\left\\langle #1,#2\\right\\rangle} $\n",
    "$ \\newcommand{\\mymatrix}[2]{\\left( \\begin{array}{#1} #2\\end{array} \\right)} $\n",
    "$ \\newcommand{\\myvector}[1]{\\mymatrix{c}{#1}} $\n",
    "$ \\newcommand{\\myrvector}[1]{\\mymatrix{r}{#1}} $\n",
    "$ \\newcommand{\\mypar}[1]{\\left( #1 \\right)} $\n",
    "$ \\newcommand{\\mybigpar}[1]{ \\Big( #1 \\Big)} $\n",
    "$ \\newcommand{\\sqrttwo}{\\frac{1}{\\sqrt{2}}} $\n",
    "$ \\newcommand{\\dsqrttwo}{\\dfrac{1}{\\sqrt{2}}} $\n",
    "$ \\newcommand{\\onehalf}{\\frac{1}{2}} $\n",
    "$ \\newcommand{\\donehalf}{\\dfrac{1}{2}} $\n",
    "$ \\newcommand{\\hadamard}{ \\mymatrix{rr}{ \\sqrttwo & \\sqrttwo \\\\ \\sqrttwo & -\\sqrttwo }} $\n",
    "$ \\newcommand{\\vzero}{\\myvector{1\\\\0}} $\n",
    "$ \\newcommand{\\vone}{\\myvector{0\\\\1}} $\n",
    "$ \\newcommand{\\stateplus}{\\myvector{ \\sqrttwo \\\\  \\sqrttwo } } $\n",
    "$ \\newcommand{\\stateminus}{ \\myrvector{ \\sqrttwo \\\\ -\\sqrttwo } } $\n",
    "$ \\newcommand{\\myarray}[2]{ \\begin{array}{#1}#2\\end{array}} $\n",
    "$ \\newcommand{\\X}{ \\mymatrix{cc}{0 & 1 \\\\ 1 & 0}  } $\n",
    "$ \\newcommand{\\Z}{ \\mymatrix{rr}{1 & 0 \\\\ 0 & -1}  } $\n",
    "$ \\newcommand{\\Htwo}{ \\mymatrix{rrrr}{ \\frac{1}{2} & \\frac{1}{2} & \\frac{1}{2} & \\frac{1}{2} \\\\ \\frac{1}{2} & -\\frac{1}{2} & \\frac{1}{2} & -\\frac{1}{2} \\\\ \\frac{1}{2} & \\frac{1}{2} & -\\frac{1}{2} & -\\frac{1}{2} \\\\ \\frac{1}{2} & -\\frac{1}{2} & -\\frac{1}{2} & \\frac{1}{2} } } $\n",
    "$ \\newcommand{\\CNOT}{ \\mymatrix{cccc}{1 & 0 & 0 & 0 \\\\ 0 & 1 & 0 & 0 \\\\ 0 & 0 & 0 & 1 \\\\ 0 & 0 & 1 & 0} } $\n",
    "$ \\newcommand{\\norm}[1]{ \\left\\lVert #1 \\right\\rVert } $\n",
    "$ \\newcommand{\\pstate}[1]{ \\lceil \\mspace{-1mu} #1 \\mspace{-1.5mu} \\rfloor } $\n",
    "$ \\newcommand{\\Y}{ \\mymatrix{rr}{0 & -i \\\\ i & 0} } $ $ \\newcommand{\\S}{ \\mymatrix{rr}{1 & 0 \\\\ 0 & i} } $ \n",
    "$ \\newcommand{\\T}{ \\mymatrix{rr}{1 & 0 \\\\ 0 & e^{i \\frac{pi}{4}}} } $ \n",
    "$ \\newcommand{\\Sdg}{ \\mymatrix{rr}{1 & 0 \\\\ 0 & -i} } $ \n",
    "$ \\newcommand{\\Tdg}{ \\mymatrix{rr}{1 & 0 \\\\ 0 & e^{-i \\frac{pi}{4}}} } $"
   ]
  },
  {
   "cell_type": "markdown",
   "metadata": {},
   "source": [
    "<h1> <font color=\"blue\"> Solutions for </font> Quantum gates with complex numbers </h1>"
   ]
  },
  {
   "cell_type": "markdown",
   "metadata": {},
   "source": [
    "<a id=\"task1\"></a>\n",
    "<h3> Task 1 </h3>\n",
    "\n",
    "Remember that $X$-gate flips the value of a qubit.\n",
    "\n",
    "Design a quantum circuit with a single qubit. Set the value of qubit to $ \\ket{1} $ by using x-gate. After that apply $Y$-gate and check the outcome on a statevector_simulator."
   ]
  },
  {
   "cell_type": "markdown",
   "metadata": {},
   "source": [
    "<h3> Solution </h3>"
   ]
  },
  {
   "cell_type": "code",
   "execution_count": 4,
   "metadata": {},
   "outputs": [
    {
     "name": "stdout",
     "output_type": "stream",
     "text": [
      "[ 6.123234e-17-1.j -0.000000e+00+0.j]\n"
     ]
    }
   ],
   "source": [
    "from qiskit import QuantumRegister, ClassicalRegister, QuantumCircuit, execute, Aer\n",
    "\n",
    "qreg =  QuantumRegister(1)\n",
    "creg = ClassicalRegister(1)\n",
    "mycircuit = QuantumCircuit(qreg,creg)\n",
    "\n",
    "# apply x-gate\n",
    "mycircuit.x(qreg[0])\n",
    "\n",
    "# apply y-gate\n",
    "mycircuit.y(qreg[0])\n",
    "\n",
    "job = execute(mycircuit,Aer.get_backend('statevector_simulator'))\n",
    "current_quantum_state=job.result().get_statevector(mycircuit)\n",
    "print(current_quantum_state)"
   ]
  },
  {
   "cell_type": "markdown",
   "metadata": {},
   "source": [
    "<a id=\"task2\"></a>\n",
    "<h3> Task 2 </h3>\n",
    "\n",
    "Find the relationship between the following operators:\n",
    "<ul>\n",
    "    <li>$S$ and $T$;</li>\n",
    "    <li>$Z$ and $T$.</li>\n",
    "</ul>"
   ]
  },
  {
   "cell_type": "markdown",
   "metadata": {},
   "source": [
    "<h3> Solution </h3>"
   ]
  },
  {
   "cell_type": "markdown",
   "metadata": {},
   "source": [
    "$S = \\S = \\mymatrix{cc}{1 & 0 \\\\ 0 & e^{i \\frac{pi}{4}} \\cdot e^{i \\frac{pi}{4}}} = \\T \\T$ => $S = T^2$.\n",
    "\n",
    "$Z = \\Z = \\mymatrix{cc}{1 & 0 \\\\ 0 & i \\cdot i} = \\S \\S$ => $Z = S^2$ => $Z = T^4$."
   ]
  },
  {
   "cell_type": "markdown",
   "metadata": {},
   "source": [
    "<a id=\"task3\"></a>\n",
    "<h3> Task 3 </h3>\n",
    "\n",
    "For each one of the discussed 4 phase gates construct the following circuit:\n",
    "\n",
    "<ul>\n",
    "    <li>Create a circuit with one qubit,</li>\n",
    "    <li>apply Hadamard operator,</li>\n",
    "    <li>apply the corresponding phase operator,</li>\n",
    "    <li>make a measurement.</li>\n",
    "</ul>\n",
    "\n",
    "What is the measurement outcome in each case?"
   ]
  },
  {
   "cell_type": "markdown",
   "metadata": {},
   "source": [
    "<h3> Solution </h3>"
   ]
  },
  {
   "cell_type": "code",
   "execution_count": 5,
   "metadata": {},
   "outputs": [
    {
     "name": "stdout",
     "output_type": "stream",
     "text": [
      "{'0': 4972, '1': 5028}\n"
     ]
    },
    {
     "data": {
      "image/png": "[encoded data removed]",
      "text/plain": [
       "<Figure size 280.469x144.48 with 1 Axes>"
      ]
     },
     "execution_count": 5,
     "metadata": {},
     "output_type": "execute_result"
    }
   ],
   "source": [
    "from qiskit import QuantumRegister, ClassicalRegister, QuantumCircuit, execute, Aer\n",
    "\n",
    "qreg =  QuantumRegister(1)\n",
    "creg = ClassicalRegister(1)\n",
    "mycircuit = QuantumCircuit(qreg,creg)\n",
    "\n",
    "mycircuit.h(qreg[0])\n",
    "# s-gate\n",
    "mycircuit.s(qreg[0])\n",
    "\n",
    "mycircuit.measure(qreg,creg)\n",
    "\n",
    "job = execute(mycircuit,Aer.get_backend('qasm_simulator'),shots=10000)\n",
    "counts = job.result().get_counts(mycircuit)\n",
    "print(counts) # print the outcomes\n",
    "\n",
    "mycircuit.draw(output='mpl')"
   ]
  },
  {
   "cell_type": "code",
   "execution_count": 6,
   "metadata": {},
   "outputs": [
    {
     "name": "stdout",
     "output_type": "stream",
     "text": [
      "{'1': 4984, '0': 5016}\n"
     ]
    },
    {
     "data": {
      "image/png": "[encoded data removed]",
      "text/plain": [
       "<Figure size 280.323x144.48 with 1 Axes>"
      ]
     },
     "execution_count": 6,
     "metadata": {},
     "output_type": "execute_result"
    }
   ],
   "source": [
    "from qiskit import QuantumRegister, ClassicalRegister, QuantumCircuit, execute, Aer\n",
    "\n",
    "qreg =  QuantumRegister(1)\n",
    "creg = ClassicalRegister(1)\n",
    "mycircuit = QuantumCircuit(qreg,creg)\n",
    "\n",
    "mycircuit.h(qreg[0])\n",
    "# t-gate\n",
    "mycircuit.t(qreg[0])\n",
    "\n",
    "mycircuit.measure(qreg,creg)\n",
    "\n",
    "job = execute(mycircuit,Aer.get_backend('qasm_simulator'),shots=10000)\n",
    "counts = job.result().get_counts(mycircuit)\n",
    "print(counts) # print the outcomes\n",
    "\n",
    "mycircuit.draw(output='mpl')"
   ]
  },
  {
   "cell_type": "code",
   "execution_count": 7,
   "metadata": {},
   "outputs": [
    {
     "name": "stdout",
     "output_type": "stream",
     "text": [
      "{'1': 4988, '0': 5012}\n"
     ]
    },
    {
     "data": {
      "image/png": "[encoded data removed]",
      "text/plain": [
       "<Figure size 280.178x144.48 with 1 Axes>"
      ]
     },
     "execution_count": 7,
     "metadata": {},
     "output_type": "execute_result"
    }
   ],
   "source": [
    "from qiskit import QuantumRegister, ClassicalRegister, QuantumCircuit, execute, Aer\n",
    "\n",
    "qreg =  QuantumRegister(1)\n",
    "creg = ClassicalRegister(1)\n",
    "mycircuit = QuantumCircuit(qreg,creg)\n",
    "\n",
    "mycircuit.h(qreg[0])\n",
    "# sdg-gate\n",
    "mycircuit.sdg(qreg[0])\n",
    "\n",
    "mycircuit.measure(qreg,creg)\n",
    "\n",
    "job = execute(mycircuit,Aer.get_backend('qasm_simulator'),shots=10000)\n",
    "counts = job.result().get_counts(mycircuit)\n",
    "print(counts) # print the outcomes\n",
    "\n",
    "mycircuit.draw(output='mpl')"
   ]
  },
  {
   "cell_type": "code",
   "execution_count": 8,
   "metadata": {},
   "outputs": [
    {
     "name": "stdout",
     "output_type": "stream",
     "text": [
      "{'1': 5027, '0': 4973}\n"
     ]
    },
    {
     "data": {
      "image/png": "[encoded data removed]",
      "text/plain": [
       "<Figure size 280.033x144.48 with 1 Axes>"
      ]
     },
     "execution_count": 8,
     "metadata": {},
     "output_type": "execute_result"
    }
   ],
   "source": [
    "from qiskit import QuantumRegister, ClassicalRegister, QuantumCircuit, execute, Aer\n",
    "\n",
    "qreg =  QuantumRegister(1)\n",
    "creg = ClassicalRegister(1)\n",
    "mycircuit = QuantumCircuit(qreg,creg)\n",
    "\n",
    "mycircuit.h(qreg[0])\n",
    "# tdg-gate\n",
    "mycircuit.tdg(qreg[0])\n",
    "\n",
    "mycircuit.measure(qreg,creg)\n",
    "\n",
    "job = execute(mycircuit,Aer.get_backend('qasm_simulator'),shots=10000)\n",
    "counts = job.result().get_counts(mycircuit)\n",
    "print(counts) # print the outcomes\n",
    "\n",
    "mycircuit.draw(output='mpl')"
   ]
  },
  {
   "cell_type": "markdown",
   "metadata": {},
   "source": [
    "<a id=\"task4\"></a>\n",
    "<h3> Task 4 </h3>\n",
    "\n",
    "For each one of the discussed 4 phase gates construct the following circuit:\n",
    "\n",
    "<ul>\n",
    "    <li>Create a circuit with one qubit,</li>\n",
    "    <li>apply Hadamard operator,</li>\n",
    "    <li>apply the corresponding phase operator,</li>\n",
    "    <li>apply Hadamard operator,</li>\n",
    "    <li>make a measurement.</li>\n",
    "</ul>\n",
    "\n",
    "Guess the measurement outcome in each case before executing the code."
   ]
  },
  {
   "cell_type": "markdown",
   "metadata": {},
   "source": [
    "<h3> Solution </h3>"
   ]
  },
  {
   "cell_type": "code",
   "execution_count": 9,
   "metadata": {},
   "outputs": [
    {
     "name": "stdout",
     "output_type": "stream",
     "text": [
      "{'1': 5122, '0': 4878}\n"
     ]
    },
    {
     "data": {
      "image/png": "[encoded data removed]",
      "text/plain": [
       "<Figure size 340.669x144.48 with 1 Axes>"
      ]
     },
     "execution_count": 9,
     "metadata": {},
     "output_type": "execute_result"
    }
   ],
   "source": [
    "from qiskit import QuantumRegister, ClassicalRegister, QuantumCircuit, execute, Aer\n",
    "\n",
    "qreg =  QuantumRegister(1)\n",
    "creg = ClassicalRegister(1)\n",
    "mycircuit = QuantumCircuit(qreg,creg)\n",
    "\n",
    "mycircuit.h(qreg[0])\n",
    "# s-gate\n",
    "mycircuit.s(qreg[0])\n",
    "mycircuit.h(qreg[0])\n",
    "\n",
    "mycircuit.measure(qreg,creg)\n",
    "\n",
    "job = execute(mycircuit,Aer.get_backend('qasm_simulator'),shots=10000)\n",
    "counts = job.result().get_counts(mycircuit)\n",
    "print(counts) # print the outcomes\n",
    "\n",
    "mycircuit.draw(output='mpl')"
   ]
  },
  {
   "cell_type": "code",
   "execution_count": 10,
   "metadata": {},
   "outputs": [
    {
     "name": "stdout",
     "output_type": "stream",
     "text": [
      "{'0': 8508, '1': 1492}\n"
     ]
    },
    {
     "data": {
      "image/png": "[encoded data removed]",
      "text/plain": [
       "<Figure size 353.504x144.48 with 1 Axes>"
      ]
     },
     "execution_count": 10,
     "metadata": {},
     "output_type": "execute_result"
    }
   ],
   "source": [
    "from qiskit import QuantumRegister, ClassicalRegister, QuantumCircuit, execute, Aer\n",
    "\n",
    "qreg =  QuantumRegister(1)\n",
    "creg = ClassicalRegister(1)\n",
    "mycircuit = QuantumCircuit(qreg,creg)\n",
    "\n",
    "mycircuit.h(qreg[0])\n",
    "# t-gate\n",
    "mycircuit.t(qreg[0])\n",
    "mycircuit.h(qreg[0])\n",
    "\n",
    "mycircuit.measure(qreg,creg)\n",
    "\n",
    "job = execute(mycircuit,Aer.get_backend('qasm_simulator'),shots=10000)\n",
    "counts = job.result().get_counts(mycircuit)\n",
    "print(counts) # print the outcomes\n",
    "\n",
    "mycircuit.draw(output='mpl')"
   ]
  },
  {
   "cell_type": "code",
   "execution_count": 11,
   "metadata": {},
   "outputs": [
    {
     "name": "stdout",
     "output_type": "stream",
     "text": [
      "{'0': 5083, '1': 4917}\n"
     ]
    },
    {
     "data": {
      "image/png": "[encoded data removed]",
      "text/plain": [
       "<Figure size 353.504x144.48 with 1 Axes>"
      ]
     },
     "execution_count": 11,
     "metadata": {},
     "output_type": "execute_result"
    }
   ],
   "source": [
    "from qiskit import QuantumRegister, ClassicalRegister, QuantumCircuit, execute, Aer\n",
    "\n",
    "qreg =  QuantumRegister(1)\n",
    "creg = ClassicalRegister(1)\n",
    "mycircuit = QuantumCircuit(qreg,creg)\n",
    "\n",
    "mycircuit.h(qreg[0])\n",
    "# sdg-gate\n",
    "mycircuit.sdg(qreg[0])\n",
    "mycircuit.h(qreg[0])\n",
    "\n",
    "mycircuit.measure(qreg,creg)\n",
    "\n",
    "job = execute(mycircuit,Aer.get_backend('qasm_simulator'),shots=10000)\n",
    "counts = job.result().get_counts(mycircuit)\n",
    "print(counts) # print the outcomes\n",
    "\n",
    "mycircuit.draw(output='mpl')"
   ]
  },
  {
   "cell_type": "code",
   "execution_count": 12,
   "metadata": {},
   "outputs": [
    {
     "name": "stdout",
     "output_type": "stream",
     "text": [
      "{'1': 1422, '0': 8578}\n"
     ]
    },
    {
     "data": {
      "image/png": "[encoded data removed]",
      "text/plain": [
       "<Figure size 353.649x144.48 with 1 Axes>"
      ]
     },
     "execution_count": 12,
     "metadata": {},
     "output_type": "execute_result"
    }
   ],
   "source": [
    "from qiskit import QuantumRegister, ClassicalRegister, QuantumCircuit, execute, Aer\n",
    "\n",
    "qreg =  QuantumRegister(1)\n",
    "creg = ClassicalRegister(1)\n",
    "mycircuit = QuantumCircuit(qreg,creg)\n",
    "\n",
    "mycircuit.h(qreg[0])\n",
    "# tdg-gate\n",
    "mycircuit.tdg(qreg[0])\n",
    "mycircuit.h(qreg[0])\n",
    "\n",
    "mycircuit.measure(qreg,creg)\n",
    "\n",
    "job = execute(mycircuit,Aer.get_backend('qasm_simulator'),shots=10000)\n",
    "counts = job.result().get_counts(mycircuit)\n",
    "print(counts) # print the outcomes\n",
    "\n",
    "mycircuit.draw(output='mpl')"
   ]
  },
  {
   "cell_type": "markdown",
   "metadata": {},
   "source": [
    "<a id=\"task5\"></a>\n",
    "<h3> Task 5 </h3>\n",
    "\n",
    "Repeat previous experiment for different number of $H$-gates and $T$-gates, but this time applying them in opposite order: first $H$ and then $T$."
   ]
  },
  {
   "cell_type": "markdown",
   "metadata": {},
   "source": [
    "<h3> Solution </h3>"
   ]
  },
  {
   "cell_type": "code",
   "execution_count": 13,
   "metadata": {},
   "outputs": [
    {
     "name": "stdout",
     "output_type": "stream",
     "text": [
      "gates applied 0 times, outcome: {'0': 10000}\n",
      "gates applied 1 times, outcome: {'0': 5004, '1': 4996}\n",
      "gates applied 2 times, outcome: {'0': 8528, '1': 1472}\n",
      "gates applied 3 times, outcome: {'0': 7512, '1': 2488}\n",
      "gates applied 4 times, outcome: {'1': 4284, '0': 5716}\n",
      "gates applied 5 times, outcome: {'0': 9814, '1': 186}\n",
      "gates applied 6 times, outcome: {'0': 4599, '1': 5401}\n",
      "gates applied 7 times, outcome: {'1': 688, '0': 9312}\n",
      "gates applied 8 times, outcome: {'1': 3542, '0': 6458}\n",
      "gates applied 9 times, outcome: {'0': 6774, '1': 3226}\n",
      "gates applied 10 times, outcome: {'0': 9182, '1': 818}\n",
      "gates applied 11 times, outcome: {'0': 4708, '1': 5292}\n",
      "gates applied 12 times, outcome: {'0': 9881, '1': 119}\n",
      "gates applied 13 times, outcome: {'0': 5525, '1': 4475}\n",
      "gates applied 14 times, outcome: {'0': 7766, '1': 2234}\n",
      "gates applied 15 times, outcome: {'0': 8222, '1': 1778}\n",
      "gates applied 16 times, outcome: {'0': 5136, '1': 4864}\n",
      "gates applied 17 times, outcome: {'0': 9984, '1': 16}\n",
      "gates applied 18 times, outcome: {'0': 4879, '1': 5121}\n",
      "gates applied 19 times, outcome: {'0': 8765, '1': 1235}\n",
      "gates applied 20 times, outcome: {'0': 7171, '1': 2829}\n",
      "gates applied 21 times, outcome: {'1': 4081, '0': 5919}\n",
      "gates applied 22 times, outcome: {'0': 9650, '1': 350}\n",
      "gates applied 23 times, outcome: {'0': 4646, '1': 5354}\n",
      "gates applied 24 times, outcome: {'0': 9529, '1': 471}\n"
     ]
    }
   ],
   "source": [
    "from qiskit import QuantumRegister, ClassicalRegister, QuantumCircuit, execute, Aer\n",
    "\n",
    "for i in range(25):\n",
    "    qreg =  QuantumRegister(1)\n",
    "    creg = ClassicalRegister(1)\n",
    "    mycircuit = QuantumCircuit(qreg,creg)\n",
    "    for j in range(i):\n",
    "        mycircuit.h(qreg[0])\n",
    "        mycircuit.t(qreg[0])\n",
    "    mycircuit.measure(qreg,creg)\n",
    "\n",
    "    job = execute(mycircuit,Aer.get_backend('qasm_simulator'),shots=10000)\n",
    "    counts = job.result().get_counts(mycircuit)\n",
    "    print('gates applied',i,'times, outcome:',counts) # print the outcomes"
   ]
  },
  {
   "cell_type": "markdown",
   "metadata": {},
   "source": [
    "<a id=\"task6\"></a>\n",
    "<h3> Task 6 (discussion) </h3>\n",
    "\n",
    "Why do the outcomes repeat after several iterations?"
   ]
  },
  {
   "cell_type": "markdown",
   "metadata": {},
   "source": [
    "<h3> Solution </h3>"
   ]
  },
  {
   "cell_type": "markdown",
   "metadata": {},
   "source": [
    "We have $(HTH)^n$ for some $n$. As a result we have $H T HH T HH T \\cdots HH T H$, and $HH = I$, so in result $(HTH)^n = HT^nH$. Because $T^8 = I$, after 8 iterations outcomes repeat."
   ]
  }
 ],
 "metadata": {
  "kernelspec": {
   "display_name": "Python 3",
   "language": "python",
   "name": "python3"
  },
  "language_info": {
   "codemirror_mode": {
    "name": "ipython",
    "version": 3
   },
   "file_extension": ".py",
   "mimetype": "text/x-python",
   "name": "python",
   "nbconvert_exporter": "python",
   "pygments_lexer": "ipython3",
   "version": "3.8.8"
  }
 },
 "nbformat": 4,
 "nbformat_minor": 2
}
